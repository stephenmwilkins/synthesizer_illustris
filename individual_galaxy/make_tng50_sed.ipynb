{
 "cells": [
  {
   "cell_type": "code",
   "execution_count": null,
   "metadata": {},
   "outputs": [],
   "source": [
    "import matplotlib.pyplot as plt\n",
    "import cmasher as cmr\n",
    "import numpy as np\n",
    "from unyt import Myr, K\n"
   ]
  },
  {
   "cell_type": "code",
   "execution_count": null,
   "metadata": {},
   "outputs": [],
   "source": [
    "# set style\n",
    "# plt.style.use('../../matplotlibrc.txt')"
   ]
  },
  {
   "attachments": {},
   "cell_type": "markdown",
   "metadata": {},
   "source": [
    "### Read in Galaxy object"
   ]
  },
  {
   "cell_type": "code",
   "execution_count": null,
   "metadata": {},
   "outputs": [],
   "source": [
    "import pickle\n",
    "\n",
    "# Define object ID\n",
    "id = '145492'\n",
    "\n",
    "# Initialise Galaxy object\n",
    "galaxy = pickle.load(open(f'data/galaxy_{id}.pck','rb'))"
   ]
  },
  {
   "attachments": {},
   "cell_type": "markdown",
   "metadata": {},
   "source": [
    "### Initialise a SPS grid"
   ]
  },
  {
   "cell_type": "code",
   "execution_count": null,
   "metadata": {},
   "outputs": [],
   "source": [
    "from synthesizer.grid import Grid\n",
    "\n",
    "grid_dir = '/Users/sw376/Dropbox/Research/data/synthesizer/grids/'\n",
    "grid_name = 'bpass-2.2.1-bin_chabrier03-0.1,300.0_cloudy-c23.01-sps'\n",
    "\n",
    "# initialise the grid, but with a restricted wavelength range and resolution\n",
    "grid = Grid(grid_name, grid_dir=grid_dir)\n",
    "\n",
    "grid.lam.shape"
   ]
  },
  {
   "attachments": {},
   "cell_type": "markdown",
   "metadata": {},
   "source": [
    "### Create the incident (pure stellar) spectra"
   ]
  },
  {
   "cell_type": "code",
   "execution_count": null,
   "metadata": {},
   "outputs": [],
   "source": [
    "from synthesizer.emission_models import IncidentEmission\n",
    "\n",
    "# reset spectra\n",
    "galaxy.stars.spectra = {}\n",
    "\n",
    "# generate integrated spectra\n",
    "galaxy.stars.get_spectra(IncidentEmission(grid=grid))\n",
    "\n",
    "# plot spectra\n",
    "fig, ax = galaxy.stars.plot_spectra(show=True, figsize=(6, 4))"
   ]
  },
  {
   "attachments": {},
   "cell_type": "markdown",
   "metadata": {},
   "source": [
    "### Create dust attenuated spectra"
   ]
  },
  {
   "cell_type": "code",
   "execution_count": null,
   "metadata": {},
   "outputs": [],
   "source": [
    "from synthesizer.emission_models import PacmanEmission, ScreenEmission\n",
    "from synthesizer.emission_models.attenuation import PowerLaw\n",
    "from synthesizer.emission_models.dust.emission import Blackbody, Greybody\n",
    "\n",
    "# specify a power-law dust curve\n",
    "alpha = -1.0 # dust curve slope\n",
    "dust_curve = PowerLaw(slope=alpha)\n",
    "\n",
    "# dust emission\n",
    "dust_emission = Blackbody(temperature=30*K)\n",
    "\n",
    "# Define the emission model, in this case Screen emission which just allows you to define tau_v for each particle\n",
    "emission_model = ScreenEmission(\n",
    "    grid=grid, \n",
    "    # tau_v=\"tau_v\", # this currently breaks due to memory requirements\n",
    "    tau_v=0.5, \n",
    "    dust_curve=dust_curve,\n",
    "    # per_particle=True,\n",
    "    )\n",
    "\n",
    "galaxy.stars.spectra = {} # reset spectra\n",
    "galaxy.stars.get_spectra(emission_model)\n",
    "spectra = galaxy.stars.spectra\n",
    "fig, ax = galaxy.stars.plot_spectra(show=True, figsize=(6, 4))\n",
    "\n",
    "ax.set_xlim([1E2, 1E5])\n",
    "\n",
    "plt.show()\n"
   ]
  },
  {
   "cell_type": "markdown",
   "metadata": {},
   "source": [
    "### Get photometry  "
   ]
  },
  {
   "cell_type": "code",
   "execution_count": null,
   "metadata": {},
   "outputs": [],
   "source": [
    "from synthesizer.filters import FilterCollection\n",
    "\n",
    "\n",
    "# Get the filter collection\n",
    "nircam_filters = [\n",
    "    f\"JWST/NIRCam.{f}\"\n",
    "    for f in [\"F070W\", \"F090W\", \"F115W\", \"F150W\", \"F200W\", \"F277W\", \"F356W\", \"F444W\"]\n",
    "]\n",
    "\n",
    "\n",
    "filters = FilterCollection(\n",
    "    filter_codes=nircam_filters,\n",
    "    new_lam=grid.lam,\n",
    ")\n",
    "\n",
    "\n",
    "\n"
   ]
  },
  {
   "attachments": {},
   "cell_type": "markdown",
   "metadata": {},
   "source": [
    "### Make production figure"
   ]
  },
  {
   "cell_type": "code",
   "execution_count": null,
   "metadata": {},
   "outputs": [],
   "source": [
    "from astropy.cosmology import Planck18 as cosmo\n",
    "import numpy as np\n",
    "import matplotlib.pyplot as plt\n",
    "from matplotlib.colors import Normalize\n",
    "from synthesizer.grid import Grid\n",
    "import cmasher as cmr\n",
    "\n",
    "\n",
    "\n",
    "\n",
    "\n",
    "wavelength_limits = [-1., 3.]\n",
    "flux_limits = [-1., 4.]\n",
    "\n",
    "wavelength_limits = [0.1, 5E1]\n",
    "flux_limits = [0.1, 1E4]\n",
    "\n",
    "\n",
    "# set style\n",
    "# plt.style.use('../../matplotlibrc.txt')\n",
    "\n",
    "\n",
    "fig = plt.figure(figsize=(7.0, 4.5))\n",
    "\n",
    "left = 0.15\n",
    "width = 0.8\n",
    "bottom = 0.1\n",
    "height = 0.6\n",
    "\n",
    "ax = fig.add_axes((left, bottom, width, height))\n",
    "\n",
    "\n",
    "reference_metallicity = 0.01\n",
    "\n",
    "grid_point = (0, 5)\n",
    "\n",
    "# sed = spectra['incident']\n",
    "# ax.plot(np.log10(sed.lam), np.log10(sed.lnu), lw=2, c='0.8', alpha=0.3)\n",
    "\n",
    "# sed = spectra['intrinsic']\n",
    "# ax.plot(np.log10(sed.lam), np.log10(sed.lnu), lw=1, c='0.5', alpha=1.0)\n",
    "\n",
    "\n",
    "# for sed_name, sed in spectra.items():\n",
    "#     sed.get_fnu(z=7., cosmo=cosmo)\n",
    "#     ax.loglog(\n",
    "#     sed.obslam.to('um').value, \n",
    "#     sed.fnu.to('nJy').value, \n",
    "#     lw=1, \n",
    "#     c='k', \n",
    "#     alpha=0.5, \n",
    "#     zorder=0,)\n",
    "\n",
    "sed = spectra['incident']\n",
    "sed.get_fnu(z=7., cosmo=cosmo)\n",
    "\n",
    "ax.loglog(\n",
    "    sed.obslam.to('um').value, \n",
    "    sed.fnu.to('nJy').value, \n",
    "    lw=1, \n",
    "    c='0.5', \n",
    "    alpha=0.5, \n",
    "    zorder=0,\n",
    "    label=r'$\\rm incident$')\n",
    "\n",
    "\n",
    "sed = spectra['emergent']\n",
    "sed.get_fnu(z=7., cosmo=cosmo)\n",
    "\n",
    "ax.loglog(\n",
    "    sed.obslam.to('um').value, \n",
    "    sed.fnu.to('nJy').value, \n",
    "    lw=2, \n",
    "    c='0.5', \n",
    "    alpha=1.0, \n",
    "    zorder=1,\n",
    "    label=r'$\\rm observed$')\n",
    "\n",
    "# get photometry\n",
    "\n",
    "photometry = sed.get_photo_fnu(filters)\n",
    "\n",
    "\n",
    "colours = cmr.take_cmap_colors('cmr.neon', len(filters))\n",
    "\n",
    "for filter_code, colour in zip(photometry.filter_codes, colours):\n",
    "    filter = photometry.filters[filter_code]\n",
    "    print(filter_code, filter.pivwv(), photometry[filter_code])\n",
    "    ax.scatter(\n",
    "        filter.pivwv().to('um').value,\n",
    "        photometry[filter_code].to('nJy').value,\n",
    "        color=colour,\n",
    "        zorder=2)\n",
    "\n",
    "ax.legend(fontsize=8)\n",
    "\n",
    "ax.set_xlim(wavelength_limits)\n",
    "ax.set_ylim(flux_limits)\n",
    "\n",
    "ax.set_ylabel(r'$\\rm f_{\\nu}/nJy$', fontsize=12)\n",
    "ax.set_xlabel(r'$\\rm \\lambda_{obs}/\\mu m$', fontsize=12)\n",
    "\n",
    "fig.savefig(f'figs/tng_spectra.pdf')\n",
    "plt.show()\n",
    "fig.clf()"
   ]
  }
 ],
 "metadata": {
  "kernelspec": {
   "display_name": "venv",
   "language": "python",
   "name": "python3"
  },
  "language_info": {
   "codemirror_mode": {
    "name": "ipython",
    "version": 3
   },
   "file_extension": ".py",
   "mimetype": "text/x-python",
   "name": "python",
   "nbconvert_exporter": "python",
   "pygments_lexer": "ipython3",
   "version": "3.10.11"
  },
  "orig_nbformat": 4,
  "vscode": {
   "interpreter": {
    "hash": "1053b2788241b0fa383aca233aaf72656c52b8b11178272842225955a19ba6e4"
   }
  }
 },
 "nbformat": 4,
 "nbformat_minor": 2
}
