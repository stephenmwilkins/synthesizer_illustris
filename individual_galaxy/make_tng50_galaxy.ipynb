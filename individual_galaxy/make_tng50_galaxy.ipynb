{
 "cells": [
  {
   "cell_type": "code",
   "execution_count": null,
   "metadata": {},
   "outputs": [],
   "source": [
    "import matplotlib.pyplot as plt\n",
    "import cmasher as cmr\n",
    "import numpy as np\n",
    "import h5py\n",
    "import pickle\n",
    "import requests\n",
    "import os.path\n",
    "from astropy.cosmology import LambdaCDM\n",
    "from unyt import Myr, K\n",
    "from synthesizer.particle import Stars, Gas, Galaxy\n",
    "from synthesizer.grid import Grid\n",
    "from synthesizer.emission_models import IncidentEmission, PacmanEmission\n",
    "from synthesizer.emission_models.attenuation import PowerLaw\n",
    "from synthesizer.emission_models.dust.emission import Greybody"
   ]
  },
  {
   "attachments": {},
   "cell_type": "markdown",
   "metadata": {},
   "source": [
    "### Parameters"
   ]
  },
  {
   "cell_type": "code",
   "execution_count": null,
   "metadata": {},
   "outputs": [],
   "source": [
    "# ADD YOUR OWN API KEY HERE\n",
    "api_key = \"c37483fea84b70f4ad9f777c38357ea0\"\n",
    "\n",
    "# this is a single galaxy that has been manually identified as interesting\n",
    "id = '145492'\n",
    "redshift = 2.0  # note: this is not the exact redshift of this snapshot, this is extracted later. \n",
    "\n",
    "# flag whether to calculate line-of-sight dust\n",
    "calculate_los_dust = False\n",
    "\n",
    "# the optical depth to use otherwise\n",
    "if not calculate_los_dust:\n",
    "    tau_v = 0.5"
   ]
  },
  {
   "attachments": {},
   "cell_type": "markdown",
   "metadata": {},
   "source": [
    "### Get properties of the simulation"
   ]
  },
  {
   "cell_type": "code",
   "execution_count": null,
   "metadata": {},
   "outputs": [],
   "source": [
    "headers = {\"api-key\":api_key}\n",
    "\n",
    "def get(path, params=None):\n",
    "    # make HTTP GET request to path\n",
    "    r = requests.get(path, params=params, headers=headers)\n",
    "\n",
    "    # raise exception if response code is not HTTP SUCCESS (200)\n",
    "    r.raise_for_status()\n",
    "\n",
    "    if r.headers['content-type'] == 'application/json':\n",
    "        return r.json() # parse json responses automatically\n",
    "    return r\n"
   ]
  },
  {
   "cell_type": "code",
   "execution_count": null,
   "metadata": {},
   "outputs": [],
   "source": [
    "\n",
    "# URL for the specific simulation\n",
    "baseUrl = 'http://www.tng-project.org/api/TNG50-1/'\n",
    "\n",
    "# grab the details of this simulation\n",
    "simulation = get(baseUrl)\n",
    "\n",
    "# print the information about the simulation\n",
    "for k, v in simulation.items():\n",
    "    print(f'{k}: {v}')"
   ]
  },
  {
   "attachments": {},
   "cell_type": "markdown",
   "metadata": {},
   "source": [
    "### Define cosmology"
   ]
  },
  {
   "cell_type": "code",
   "execution_count": null,
   "metadata": {},
   "outputs": [],
   "source": [
    "# extract the cosmological parameters for this simulation\n",
    "h = simulation['hubble']\n",
    "Om0 = simulation['omega_0']\n",
    "Ode0 = simulation['omega_L']\n",
    "H0 = h * 100 \n",
    "Ob0 = simulation['omega_B']\n",
    "\n",
    "# create an astropy cosmology object\n",
    "cosmo = LambdaCDM(Om0=Om0, Ode0=Ode0, H0=H0, Ob0=Ob0)"
   ]
  },
  {
   "cell_type": "code",
   "execution_count": null,
   "metadata": {},
   "outputs": [],
   "source": [
    "# create a dictionary of snapshots and redshifts (useful later)\n",
    "snapshots = get(simulation['snapshots'])\n",
    "snapshot_redshifts = {snapshot['number']: snapshot['redshift'] for snapshot in snapshots}\n",
    "print(snapshot_redshifts)"
   ]
  },
  {
   "attachments": {},
   "cell_type": "markdown",
   "metadata": {},
   "source": [
    "### Download data"
   ]
  },
  {
   "cell_type": "code",
   "execution_count": null,
   "metadata": {},
   "outputs": [],
   "source": [
    "def get(path, params=None):\n",
    "    # make HTTP GET request to path\n",
    "    r = requests.get(path, params=params, headers=headers)\n",
    "\n",
    "    # raise exception if response code is not HTTP SUCCESS (200)\n",
    "    r.raise_for_status()\n",
    "\n",
    "    if r.headers['content-type'] == 'application/json':\n",
    "        return r.json() # parse json responses automatically\n",
    "\n",
    "    if 'content-disposition' in r.headers:\n",
    "        filename = r.headers['content-disposition'].split(\"filename=\")[1]\n",
    "        with open('data/'+filename, 'wb') as f:\n",
    "            f.write(r.content)\n",
    "        return filename # return the filename string\n",
    "\n",
    "    return r"
   ]
  },
  {
   "cell_type": "code",
   "execution_count": null,
   "metadata": {},
   "outputs": [],
   "source": [
    "# the quantities that we want to grab: the coordinates, metallicity, age, and initial mass of all the star particles\n",
    "params = {\n",
    "    'stars':'Coordinates,GFM_Metallicity,GFM_StellarFormationTime,GFM_InitialMass,Masses',\n",
    "    'gas': 'Coordinates,GFM_Metallicity,SubfindHsml,Masses'\n",
    "    }\n",
    "\n",
    "# the data url for the object of interest\n",
    "url = f\"{baseUrl}/snapshots/z={str(redshift)}/subhalos/{str(id)}\"\n",
    "\n",
    "# Download the subhalo properties for the specific galaxy and save them as pickle file\n",
    "subhalo_properties_filename = f'data/subhalo_properties_{id}.pck'\n",
    "if not os.path.isfile(subhalo_properties_filename):\n",
    "    subhalo_properties = get(url) # get json response of subhalo properties\n",
    "    pickle.dump(subhalo_properties, open(subhalo_properties_filename,'wb'))\n",
    "\n",
    "# Download the HDF5 cutout for the galaxy if it hasn't already been downloaded\n",
    "cutout_filename = f'data/cutout_{id}.hdf5'\n",
    "if not os.path.isfile(cutout_filename):\n",
    "    get(url + \"/cutout.hdf5\", params) # get and save HDF5 cutout file"
   ]
  },
  {
   "attachments": {},
   "cell_type": "markdown",
   "metadata": {},
   "source": [
    "Print sub-halo properties and determine the exact snapshot redshift"
   ]
  },
  {
   "cell_type": "code",
   "execution_count": null,
   "metadata": {},
   "outputs": [],
   "source": [
    "subhalo_properties = pickle.load(open(f'data/subhalo_properties_{id}.pck','rb'))\n",
    "for k,v in subhalo_properties.items():\n",
    "    print(f'{k}: {v}')\n",
    "\n",
    "snapshot_redshift = snapshot_redshifts[subhalo_properties['snap']]\n",
    "print(f'snapshot redshift: {snapshot_redshift}')"
   ]
  },
  {
   "attachments": {},
   "cell_type": "markdown",
   "metadata": {},
   "source": [
    "Explore HDF5 file"
   ]
  },
  {
   "cell_type": "code",
   "execution_count": null,
   "metadata": {},
   "outputs": [],
   "source": [
    "with h5py.File(cutout_filename) as f:\n",
    "    f.visit(print)"
   ]
  },
  {
   "attachments": {},
   "cell_type": "markdown",
   "metadata": {},
   "source": [
    "### Creating a Galaxy object\n",
    "\n",
    "After downloading the data we need to create a synthesizer galaxy object.\n"
   ]
  },
  {
   "cell_type": "code",
   "execution_count": null,
   "metadata": {},
   "outputs": [],
   "source": [
    "\n",
    "from unyt import Msun, Mpc\n",
    "\n",
    "# define the centre of the galaxy\n",
    "centre = np.array([subhalo_properties['pos_x'],\n",
    "                   subhalo_properties['pos_y'],\n",
    "                   subhalo_properties['pos_z'],\n",
    "                   ]) * Mpc / (1 + snapshot_redshift) / h / 1000\n",
    "\n",
    "print(centre)\n",
    "\n",
    "with h5py.File(cutout_filename) as f:\n",
    "\n",
    "    # GFM_StellarFormationTime is the scale factor when the  \n",
    "    formation_scale_factor = f['PartType4']['GFM_StellarFormationTime'][()]\n",
    "    formation_redshift = 1/formation_scale_factor - 1.0\n",
    "    \n",
    "    # only select star particles that make sense\n",
    "    s = formation_redshift >= snapshot_redshift\n",
    "    formation_redshift = formation_redshift[s]\n",
    "\n",
    "    # calculate the ages of star particle and record as unyt quantity\n",
    "    ages = (cosmo.age(z=snapshot_redshift)-cosmo.age(formation_redshift)).to('Myr').value * Myr\n",
    "\n",
    "    # convert units of initial masses\n",
    "    initial_masses = f['PartType4']['GFM_InitialMass'][s] * Msun * 1E10 / h \n",
    "\n",
    "    # convert units of initial masses\n",
    "    current_masses = f['PartType4']['Masses'][s] * Msun * 1E10 / h \n",
    "\n",
    "    # define the coorindates of the star particles \n",
    "    x = f['PartType4']['Coordinates'][s,0] \n",
    "    y = f['PartType4']['Coordinates'][s,1] \n",
    "    z = f['PartType4']['Coordinates'][s,2] \n",
    "\n",
    "    # convert coordinates to physical and change the units\n",
    "    coordinates = np.array([x,y,z]).T / (1+snapshot_redshift) / h / 1000 * Mpc\n",
    "\n",
    "    # create a stars object\n",
    "    stars = Stars(\n",
    "        ages=ages,\n",
    "        initial_masses=initial_masses,\n",
    "        current_masses=current_masses,\n",
    "        metallicities=f['PartType4']['GFM_Metallicity'][s],\n",
    "        coordinates=coordinates,\n",
    "        centre=centre,\n",
    "        )\n",
    "    \n",
    "    # define the coorindates of the gas particles \n",
    "    x = f['PartType0']['Coordinates'][:,0] \n",
    "    y = f['PartType0']['Coordinates'][:,1] \n",
    "    z = f['PartType0']['Coordinates'][:,2] \n",
    "\n",
    "    # convert coordinates to physical and change the units\n",
    "    coordinates = np.array([x,y,z]).T  / (1 + snapshot_redshift) / h / 1000 * Mpc\n",
    "\n",
    "\n",
    "    # create a gas object\n",
    "    gas = Gas(\n",
    "        masses=f['PartType0']['Masses'][:] * 1E10 / h * Msun,\n",
    "        metallicities=f['PartType0']['GFM_Metallicity'][:],\n",
    "        smoothing_lengths=f['PartType0']['SubfindHsml'][:] / (1 + snapshot_redshift) / h / 1000 * Mpc,\n",
    "        coordinates=coordinates,\n",
    "        centre=centre,\n",
    "        )\n",
    "\n",
    "\n",
    "# initialise the galaxy object\n",
    "galaxy = Galaxy(stars=stars, gas=gas, centre=centre, redshift=snapshot_redshift)"
   ]
  },
  {
   "attachments": {},
   "cell_type": "markdown",
   "metadata": {},
   "source": [
    "### Show SFZH"
   ]
  },
  {
   "cell_type": "code",
   "execution_count": null,
   "metadata": {},
   "outputs": [],
   "source": [
    "metallicities = galaxy.stars.metallicities\n",
    "ages = galaxy.stars.ages\n",
    "initial_masses = galaxy.stars._initial_masses\n",
    "\n",
    "cmap = cmr.sapphire\n",
    "age_range = [0., 3000.]\n",
    "log10metallicity_range = [-3.5, -1.]\n",
    "nbins = 40\n",
    "\n",
    "fig = plt.figure(figsize=(3.5, 3.5))\n",
    "\n",
    "bottom = 0.15\n",
    "height = 0.6\n",
    "hsize = 0.15\n",
    "left = 0.15\n",
    "width = 0.6\n",
    "\n",
    "ax = fig.add_axes((left, bottom, width, height))\n",
    "axx = fig.add_axes((left, bottom+height, width, hsize))\n",
    "axy = fig.add_axes((left+width, bottom, hsize, height))\n",
    "\n",
    "hist, xedges, yedges = np.histogram2d(ages.to('Myr').value, \n",
    "                                      np.log10(metallicities), \n",
    "                                      bins=[nbins,nbins], \n",
    "                                      range=[age_range, log10metallicity_range],\n",
    "                                      weights=initial_masses)\n",
    "\n",
    "axx.hist(ages.to('Myr').value, bins=nbins, range=age_range, weights=initial_masses,color='0.5')\n",
    "axy.hist(np.log10(metallicities), bins=nbins, range=log10metallicity_range, weights=initial_masses, orientation='horizontal',color='0.5')\n",
    "\n",
    "ax.imshow(hist.T, \n",
    "           origin='lower', \n",
    "           interpolation='nearest', \n",
    "           extent=[*age_range, *log10metallicity_range],\n",
    "           aspect='auto',\n",
    "           cmap=cmap)\n",
    "\n",
    "\n",
    "axx.set_xlim(age_range)\n",
    "axx.set_yticklabels([])\n",
    "axx.xaxis.set_ticks_position('top')\n",
    "\n",
    "axy.set_ylim(log10metallicity_range)\n",
    "axy.set_xticklabels([])\n",
    "axy.yaxis.set_ticks_position('right')\n",
    "\n",
    "ax.set_xlabel(r'$\\rm age/Myr$')\n",
    "ax.set_ylabel(r'$\\rm log_{10}(metallicity)$')\n",
    "\n",
    "fig.savefig('figs/tng-age_metallicity.pdf')\n",
    "fig.show()"
   ]
  },
  {
   "attachments": {},
   "cell_type": "markdown",
   "metadata": {},
   "source": [
    "### LOS dust\n",
    "\n",
    "Calculate the line-of-sight surface density of dust to each star particle in the galaxy.\n",
    "\n",
    "This should take up-to 20 minutes.\n",
    "\n"
   ]
  },
  {
   "cell_type": "code",
   "execution_count": null,
   "metadata": {},
   "outputs": [],
   "source": [
    "\n",
    "if calculate_los_dust:\n",
    "\n",
    "    from synthesizer.kernel_functions import Kernel\n",
    "\n",
    "    kappa = 0.3\n",
    "    kernel = Kernel().get_kernel()\n",
    "    galaxy.calculate_los_tau_v(kappa=kappa, kernel=kernel, force_loop=True)\n",
    "\n",
    "else:\n",
    "\n",
    "    galaxy.stars.tau_v = tau_v * np.ones(len(galaxy.stars.ages))\n"
   ]
  },
  {
   "attachments": {},
   "cell_type": "markdown",
   "metadata": {},
   "source": [
    "Plot the distribution of $\\tau_V$ values:"
   ]
  },
  {
   "cell_type": "code",
   "execution_count": null,
   "metadata": {},
   "outputs": [],
   "source": [
    "tauv = galaxy.stars.tau_v\n",
    "tauv = tauv[tauv>0.0]\n",
    "\n",
    "plt.hist(np.log10(tauv), bins=100)\n",
    "plt.show()"
   ]
  },
  {
   "attachments": {},
   "cell_type": "markdown",
   "metadata": {},
   "source": [
    "### Save\n",
    "\n",
    "We now use pickle to save the Galaxy object for use in other notebooks."
   ]
  },
  {
   "cell_type": "code",
   "execution_count": null,
   "metadata": {},
   "outputs": [],
   "source": [
    "import pickle\n",
    "\n",
    "pickle.dump(galaxy, open(f'data/galaxy_{id}.pck','wb'))"
   ]
  }
 ],
 "metadata": {
  "kernelspec": {
   "display_name": "venv",
   "language": "python",
   "name": "python3"
  },
  "language_info": {
   "codemirror_mode": {
    "name": "ipython",
    "version": 3
   },
   "file_extension": ".py",
   "mimetype": "text/x-python",
   "name": "python",
   "nbconvert_exporter": "python",
   "pygments_lexer": "ipython3",
   "version": "3.10.11"
  },
  "orig_nbformat": 4,
  "vscode": {
   "interpreter": {
    "hash": "1053b2788241b0fa383aca233aaf72656c52b8b11178272842225955a19ba6e4"
   }
  }
 },
 "nbformat": 4,
 "nbformat_minor": 2
}
