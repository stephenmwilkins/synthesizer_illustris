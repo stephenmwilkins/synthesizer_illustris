{
 "cells": [
  {
   "cell_type": "code",
   "execution_count": 84,
   "metadata": {},
   "outputs": [],
   "source": [
    "import matplotlib.pyplot as plt\n",
    "import cmasher as cmr\n",
    "import numpy as np\n",
    "import h5py\n",
    "import pickle\n",
    "import requests\n",
    "import os.path\n",
    "from astropy.cosmology import LambdaCDM\n",
    "from unyt import Myr, K\n",
    "from synthesizer.particle import Stars, Gas, Galaxy\n",
    "from synthesizer.grid import Grid\n",
    "from synthesizer.emission_models import IncidentEmission, PacmanEmission\n",
    "from synthesizer.emission_models.attenuation import PowerLaw\n",
    "from synthesizer.emission_models.dust.emission import Greybody"
   ]
  },
  {
   "attachments": {},
   "cell_type": "markdown",
   "metadata": {},
   "source": [
    "### Illustris API key\n",
    "\n",
    "**NOTE:** this needs to be replaced by your own key."
   ]
  },
  {
   "cell_type": "code",
   "execution_count": 85,
   "metadata": {},
   "outputs": [],
   "source": [
    "api_key = \"c37483fea84b70f4ad9f777c38357ea0\""
   ]
  },
  {
   "attachments": {},
   "cell_type": "markdown",
   "metadata": {},
   "source": [
    "### Get properties of the simulation"
   ]
  },
  {
   "cell_type": "code",
   "execution_count": 86,
   "metadata": {},
   "outputs": [],
   "source": [
    "headers = {\"api-key\":api_key}\n",
    "\n",
    "def get(path, params=None):\n",
    "    # make HTTP GET request to path\n",
    "    r = requests.get(path, params=params, headers=headers)\n",
    "\n",
    "    # raise exception if response code is not HTTP SUCCESS (200)\n",
    "    r.raise_for_status()\n",
    "\n",
    "    if r.headers['content-type'] == 'application/json':\n",
    "        return r.json() # parse json responses automatically\n",
    "    return r\n"
   ]
  },
  {
   "cell_type": "code",
   "execution_count": 87,
   "metadata": {},
   "outputs": [
    {
     "name": "stdout",
     "output_type": "stream",
     "text": [
      "name: TNG50-1\n",
      "description: Main high-resolution IllustrisTNG50 run including the full TNG physics model.\n",
      "name_alt: L35n2160TNG\n",
      "boxsize: 35000.0\n",
      "z_start: 127.0\n",
      "z_final: 0.0\n",
      "cosmology: Planck2015\n",
      "omega_0: 0.3089\n",
      "omega_L: 0.6911\n",
      "omega_B: 0.0486\n",
      "hubble: 0.6774\n",
      "physics_model: Fiducial TNG Model\n",
      "has_cooling: True\n",
      "has_starformation: True\n",
      "has_winds: True\n",
      "has_blackholes: True\n",
      "mass_gas: 5.73879e-06\n",
      "mass_dm: 3.07367708626464e-05\n",
      "softening_dm_comoving: 0.39\n",
      "softening_stars_comoving: 0.39\n",
      "softening_blackholes_comoving: 0.39\n",
      "softening_gas_comoving: 0.39\n",
      "softening_dm_max_phys: 0.195\n",
      "softening_stars_max_phys: 0.195\n",
      "softening_blackholes_max_phys: 0.39\n",
      "softening_gas_max_phys: 0.195\n",
      "softening_gas_factor: 2.5\n",
      "softening_gas_comoving_min: 0.05\n",
      "num_dm: 10077696000\n",
      "num_tr_mc: 10077696000\n",
      "num_tr_vel: 0\n",
      "longids: True\n",
      "is_uniform: True\n",
      "is_zoom: False\n",
      "is_subbox: False\n",
      "num_files_snapshot: 680\n",
      "num_files_groupcat: 680\n",
      "num_files_rockstar: 0\n",
      "num_files_lhalotree: 200\n",
      "num_files_sublink: 11\n",
      "num_files_ctrees: 0\n",
      "filesize_lhalotree: 353535994456.0\n",
      "filesize_sublink: 658794151862.0\n",
      "filesize_ctrees: 0.0\n",
      "filesize_ics: 322486276720.0\n",
      "filesize_simulation: 944354752.0\n",
      "has_fof: True\n",
      "has_subfind: True\n",
      "has_rockstar: False\n",
      "has_lhalotree: True\n",
      "has_sublink: True\n",
      "has_ctrees: False\n",
      "permission_required: 64\n",
      "num_snapshots: 100\n",
      "url: http://www.tng-project.org/api/TNG50-1/\n",
      "parent_simulation: []\n",
      "child_simulations: ['http://www.tng-project.org/api/TNG50-1-Subbox0/', 'http://www.tng-project.org/api/TNG50-1-Subbox2/', 'http://www.tng-project.org/api/TNG50-1-Subbox1/']\n",
      "files: {'lhalotree': 'http://www.tng-project.org/api/TNG50-1/files/lhalotree/', 'sublink': 'http://www.tng-project.org/api/TNG50-1/files/sublink/', 'offsets': 'http://www.tng-project.org/api/TNG50-1/files/offsets/', 'ics': 'http://www.tng-project.org/api/TNG50-1/files/ics.hdf5', 'simulation': 'http://www.tng-project.org/api/TNG50-1/files/simulation.hdf5', 'stellar_circs': 'http://www.tng-project.org/api/TNG50-1/files/stellar_circs.hdf5', 'subhalo_matching_to_dark': 'http://www.tng-project.org/api/TNG50-1/files/subhalo_matching_to_dark.hdf5', 'blackhole_mergers': 'http://www.tng-project.org/api/TNG50-1/files/blackhole_mergers.hdf5', 'blackhole_details': 'http://www.tng-project.org/api/TNG50-1/files/blackhole_details.hdf5', 'stellar_assembly': 'http://www.tng-project.org/api/TNG50-1/files/stellar_assembly.hdf5', 'subbox_subhalo_list_0': 'http://www.tng-project.org/api/TNG50-1/files/subbox_subhalo_list.0.hdf5', 'subbox_subhalo_list_1': 'http://www.tng-project.org/api/TNG50-1/files/subbox_subhalo_list.1.hdf5', 'subbox_subhalo_list_2': 'http://www.tng-project.org/api/TNG50-1/files/subbox_subhalo_list.2.hdf5', 'star_formation_rates': 'http://www.tng-project.org/api/TNG50-1/files/star_formation_rates.hdf5', 'aperture_masses': 'http://www.tng-project.org/api/TNG50-1/files/aperture_masses.hdf5', 'morphologies_deeplearn': 'http://www.tng-project.org/api/TNG50-1/files/morphologies_deeplearn.hdf5', 'morphs_kinematic_bars': 'http://www.tng-project.org/api/TNG50-1/files/morphs_kinematic_bars.hdf5', 'skirt_images_jwst': 'http://www.tng-project.org/api/TNG50-1/files/skirt_images_jwst/', 'mangia': 'http://www.tng-project.org/api/TNG50-1/files/mangia/', 'skirt_bands_seds': 'http://www.tng-project.org/api/TNG50-1/files/skirt_bands_seds.hdf5', 'globular_clusters': 'http://www.tng-project.org/api/TNG50-1/files/globular_clusters.hdf5', 'mwm31s': 'http://www.tng-project.org/api/TNG50-1/files/mwm31s/', 'cloud_catalog': 'http://www.tng-project.org/api/TNG50-1/files/cloud_catalog.hdf5', 'jellyfish': 'http://www.tng-project.org/api/TNG50-1/files/jellyfish.hdf5', 'nearest_neighbors': 'http://www.tng-project.org/api/TNG50-1/files/nearest_neighbors.hdf5', 'halo_structure': 'http://www.tng-project.org/api/TNG50-1/files/halo_structure/', 'hih2_galaxy': 'http://www.tng-project.org/api/TNG50-1/files/hih2_galaxy/', 'skirt_images': 'http://www.tng-project.org/api/TNG50-1/files/skirt_images/', 'skirt_images_kids': 'http://www.tng-project.org/api/TNG50-1/files/skirt_images_kids/', 'stellar_sizes': 'http://www.tng-project.org/api/TNG50-1/files/stellar_sizes/', 'kinematic_decomposition': 'http://www.tng-project.org/api/TNG50-1/files/kinematic_decomposition/', 'merger_history': 'http://www.tng-project.org/api/TNG50-1/files/merger_history/', 'iMaNGA': 'http://www.tng-project.org/api/TNG50-1/files/imanga/', 'skirt_images_hsc': 'http://www.tng-project.org/api/TNG50-1/files/skirt_images_hsc/'}\n",
      "checksums: http://www.tng-project.org/api/TNG50-1/checksums/\n",
      "snapshots: http://www.tng-project.org/api/TNG50-1/snapshots/\n"
     ]
    }
   ],
   "source": [
    "\n",
    "# URL for the specific simulation\n",
    "baseUrl = 'http://www.tng-project.org/api/TNG50-1/'\n",
    "\n",
    "# grab the details of this simulation\n",
    "simulation = get(baseUrl)\n",
    "\n",
    "# print the information about the simulation\n",
    "for k, v in simulation.items():\n",
    "    print(f'{k}: {v}')"
   ]
  },
  {
   "attachments": {},
   "cell_type": "markdown",
   "metadata": {},
   "source": [
    "### Define cosmology"
   ]
  },
  {
   "cell_type": "code",
   "execution_count": 88,
   "metadata": {},
   "outputs": [],
   "source": [
    "# extract the cosmological parameters for this simulation\n",
    "h = simulation['hubble']\n",
    "Om0 = simulation['omega_0']\n",
    "Ode0 = simulation['omega_L']\n",
    "H0 = h * 100 \n",
    "Ob0 = simulation['omega_B']\n",
    "\n",
    "# create an astropy cosmology object\n",
    "cosmo = LambdaCDM(Om0=Om0, Ode0=Ode0, H0=H0, Ob0=Ob0)"
   ]
  },
  {
   "cell_type": "code",
   "execution_count": 89,
   "metadata": {},
   "outputs": [
    {
     "name": "stdout",
     "output_type": "stream",
     "text": [
      "{0: 20.0464909888075, 1: 14.9891732400424, 2: 11.9802133153003, 3: 10.9756432941379, 4: 9.99659046618633, 5: 9.38877127194055, 6: 9.00233985416247, 7: 8.44947629436874, 8: 8.01217294886593, 9: 7.5951071498716, 10: 7.23627606616736, 11: 7.00541704554453, 12: 6.4915977456675, 13: 6.0107573988449, 14: 5.84661374788187, 15: 5.5297658079491, 16: 5.22758097312734, 17: 4.99593346816462, 18: 4.66451770247093, 19: 4.42803373660555, 20: 4.17683491472647, 21: 4.00794511146527, 22: 3.70877426464224, 23: 3.49086136926065, 24: 3.28303305795652, 25: 3.00813107163038, 26: 2.89578500572743, 27: 2.73314261731872, 28: 2.57729027160189, 29: 2.44422570455415, 30: 2.31611074395689, 31: 2.2079254723837, 32: 2.10326965259577, 33: 2.00202813925285, 34: 1.90408954353277, 35: 1.82268925262035, 36: 1.74357057433086, 37: 1.66666955611447, 38: 1.60423452207311, 39: 1.53123902915761, 40: 1.49551216649556, 41: 1.41409822037252, 42: 1.357576667403, 43: 1.30237845990597, 44: 1.24847261424514, 45: 1.206258080781, 46: 1.15460271236022, 47: 1.11415056376538, 48: 1.07445789454767, 49: 1.03551044566414, 50: 0.99729422578194, 51: 0.950531351585033, 52: 0.923000816177909, 53: 0.886896937575248, 54: 0.851470900624649, 55: 0.816709979011851, 56: 0.791068248946339, 57: 0.757441372615853, 58: 0.732636182022312, 59: 0.700106353718523, 60: 0.676110411213478, 61: 0.644641840684537, 62: 0.621428745242514, 63: 0.598543288187567, 64: 0.575980845107887, 65: 0.546392183141022, 66: 0.524565820433923, 67: 0.503047523244883, 68: 0.481832943420951, 69: 0.460917794180647, 70: 0.440297849247743, 71: 0.419968941997267, 72: 0.399926964613563, 73: 0.380167867260239, 74: 0.360687657261817, 75: 0.347853841858178, 76: 0.328829724205954, 77: 0.310074120127834, 78: 0.297717684517447, 79: 0.27335334657844, 80: 0.261343256161012, 81: 0.24354018155467, 82: 0.225988386260198, 83: 0.214425035514495, 84: 0.19728418237601, 85: 0.180385261705749, 86: 0.169252033243611, 87: 0.152748768902381, 88: 0.141876203969562, 89: 0.125759332411261, 90: 0.109869940458825, 91: 0.0994018026302219, 92: 0.0838844307974793, 93: 0.0736613846564387, 94: 0.058507322794513, 95: 0.0485236299818059, 96: 0.0337243718735154, 97: 0.0239744283827625, 98: 0.00952166696794476, 99: 2.22044604925031e-16}\n"
     ]
    }
   ],
   "source": [
    "# create a dictionary of snapshots and redshifts (useful later)\n",
    "snapshots = get(simulation['snapshots'])\n",
    "snapshot_redshifts = {snapshot['number']: snapshot['redshift'] for snapshot in snapshots}\n",
    "print(snapshot_redshifts)"
   ]
  },
  {
   "attachments": {},
   "cell_type": "markdown",
   "metadata": {},
   "source": [
    "### Define choice of galaxy/redshift"
   ]
  },
  {
   "cell_type": "code",
   "execution_count": 90,
   "metadata": {},
   "outputs": [],
   "source": [
    "# this is a single galaxy that has been manually identified as useful\n",
    "id = '145492'\n",
    "redshift = 2.0"
   ]
  },
  {
   "attachments": {},
   "cell_type": "markdown",
   "metadata": {},
   "source": [
    "### Download data"
   ]
  },
  {
   "cell_type": "code",
   "execution_count": 91,
   "metadata": {},
   "outputs": [],
   "source": [
    "def get(path, params=None):\n",
    "    # make HTTP GET request to path\n",
    "    r = requests.get(path, params=params, headers=headers)\n",
    "\n",
    "    # raise exception if response code is not HTTP SUCCESS (200)\n",
    "    r.raise_for_status()\n",
    "\n",
    "    if r.headers['content-type'] == 'application/json':\n",
    "        return r.json() # parse json responses automatically\n",
    "\n",
    "    if 'content-disposition' in r.headers:\n",
    "        filename = r.headers['content-disposition'].split(\"filename=\")[1]\n",
    "        with open('data/'+filename, 'wb') as f:\n",
    "            f.write(r.content)\n",
    "        return filename # return the filename string\n",
    "\n",
    "    return r"
   ]
  },
  {
   "cell_type": "code",
   "execution_count": 92,
   "metadata": {},
   "outputs": [],
   "source": [
    "# the quantities that we want to grab: the coordinates, metallicity, age, and initial mass of all the star particles\n",
    "params = {\n",
    "    'stars':'Coordinates,GFM_Metallicity,GFM_StellarFormationTime,GFM_InitialMass,Masses',\n",
    "    'gas': 'Coordinates,GFM_Metallicity,SubfindHsml,Masses'\n",
    "    }\n",
    "\n",
    "# the data url for the object of interest\n",
    "url = f\"{baseUrl}/snapshots/z={str(redshift)}/subhalos/{str(id)}\"\n",
    "\n",
    "# Download the subhalo properties for the specific galaxy and save them as pickle file\n",
    "subhalo_properties_filename = f'data/subhalo_properties_{id}.pck'\n",
    "if not os.path.isfile(subhalo_properties_filename):\n",
    "    subhalo_properties = get(url) # get json response of subhalo properties\n",
    "    pickle.dump(subhalo_properties, open(subhalo_properties_filename,'wb'))\n",
    "\n",
    "# Download the HDF5 cutout for the galaxy if it hasn't already been downloaded\n",
    "cutout_filename = f'data/cutout_{id}.hdf5'\n",
    "if not os.path.isfile(cutout_filename):\n",
    "    get(url + \"/cutout.hdf5\", params) # get and save HDF5 cutout file"
   ]
  },
  {
   "attachments": {},
   "cell_type": "markdown",
   "metadata": {},
   "source": [
    "Print sub-halo properties and determine the exact snapshot redshift"
   ]
  },
  {
   "cell_type": "code",
   "execution_count": 93,
   "metadata": {},
   "outputs": [
    {
     "name": "stdout",
     "output_type": "stream",
     "text": [
      "snap: 33\n",
      "id: 145492\n",
      "bhmdot: 0.00214158\n",
      "cm_x: 2631.63\n",
      "cm_y: 22423.6\n",
      "cm_z: 32813.0\n",
      "gasmetallicity: 0.0234775\n",
      "gasmetallicityhalfrad: 0.0332981\n",
      "gasmetallicitymaxrad: 0.0139534\n",
      "gasmetallicitysfr: 0.0156152\n",
      "gasmetallicitysfrweighted: 0.0216725\n",
      "pos_x: 2614.18\n",
      "pos_y: 22429.6\n",
      "pos_z: 32811.7\n",
      "halfmassrad: 71.0307\n",
      "halfmassrad_gas: 67.2129\n",
      "halfmassrad_dm: 75.0715\n",
      "halfmassrad_stars: 7.5072\n",
      "halfmassrad_bhs: 0.0\n",
      "len: 2303786\n",
      "len_gas: 793943\n",
      "len_dm: 1201183\n",
      "len_stars: 308659\n",
      "len_bhs: 1\n",
      "mass: 43.4305\n",
      "mass_gas: 5.0807\n",
      "mass_dm: 36.9205\n",
      "mass_stars: 1.42703\n",
      "mass_bhs: 0.002327\n",
      "massinhalfrad: 2.0413\n",
      "massinhalfrad_gas: 0.196656\n",
      "massinhalfrad_dm: 1.12881\n",
      "massinhalfrad_stars: 0.713511\n",
      "massinhalfrad_bhs: 0.002327\n",
      "massinmaxrad: 12.493\n",
      "massinmaxrad_gas: 1.64067\n",
      "massinmaxrad_dm: 9.48976\n",
      "massinmaxrad_stars: 1.36023\n",
      "massinmaxrad_bhs: 0.002327\n",
      "massinrad: 4.61426\n",
      "massinrad_gas: 0.622574\n",
      "massinrad_dm: 2.90797\n",
      "massinrad_stars: 1.08139\n",
      "massinrad_bhs: 0.002327\n",
      "sfr: 15.455\n",
      "sfrinhalfrad: 4.07666\n",
      "sfrinmaxrad: 15.043\n",
      "sfrinrad: 9.20307\n",
      "spin_x: -578.208\n",
      "spin_y: -426.997\n",
      "spin_z: -670.35\n",
      "starmetallicity: 0.0173152\n",
      "starmetallicityhalfrad: 0.0205166\n",
      "starmetallicitymaxrad: 0.0149549\n",
      "stellarphotometrics_u: -22.6482\n",
      "stellarphotometrics_b: -22.3547\n",
      "stellarphotometrics_v: -22.56\n",
      "stellarphotometrics_k: -24.4195\n",
      "stellarphotometrics_g: -22.5709\n",
      "stellarphotometrics_r: -22.6637\n",
      "stellarphotometrics_i: -22.7412\n",
      "stellarphotometrics_z: -22.8178\n",
      "stellarphotometricsmassinrad: 0.353465\n",
      "stellarphotometricsrad: 1.6798\n",
      "vel_x: 61.3297\n",
      "vel_y: 64.1652\n",
      "vel_z: 19.7119\n",
      "veldisp: 119.402\n",
      "vmax: 204.331\n",
      "vmaxrad: 38.643\n",
      "windmass: 0.00155\n",
      "prog_snap: 32\n",
      "prog_sfid: 166280\n",
      "desc_snap: 34\n",
      "desc_sfid: 154916\n",
      "parent: 0\n",
      "grnr: 132\n",
      "primary_flag: 1\n",
      "subhaloflag: 1\n",
      "mass_log_msun: 11.806949636961308\n",
      "related: {'sublink_progenitor': 'http://www.tng-project.org/api/TNG50-1/snapshots/32/subhalos/166280/', 'sublink_descendant': 'http://www.tng-project.org/api/TNG50-1/snapshots/34/subhalos/154916/', 'parent_halo': 'http://www.tng-project.org/api/TNG50-1/snapshots/33/halos/132/'}\n",
      "cutouts: {'subhalo': 'http://www.tng-project.org/api/TNG50-1/snapshots/33/subhalos/145492/cutout.hdf5', 'parent_halo': 'http://www.tng-project.org/api/TNG50-1/snapshots/33/halos/132/cutout.hdf5'}\n",
      "trees: {'sublink': 'http://www.tng-project.org/api/TNG50-1/snapshots/33/subhalos/145492/sublink/full.hdf5', 'sublink_mpb': 'http://www.tng-project.org/api/TNG50-1/snapshots/33/subhalos/145492/sublink/mpb.hdf5', 'sublink_mdb': 'http://www.tng-project.org/api/TNG50-1/snapshots/33/subhalos/145492/sublink/mdb.hdf5', 'sublink_simple': 'http://www.tng-project.org/api/TNG50-1/snapshots/33/subhalos/145492/sublink/simple.json', 'sublinkgal': 'http://www.tng-project.org/api/TNG50-1/snapshots/33/subhalos/145492/sublink_gal/full.hdf5', 'sublinkgal_mpb': 'http://www.tng-project.org/api/TNG50-1/snapshots/33/subhalos/145492/sublink_gal/mpb.hdf5', 'sublinkgal_mdb': 'http://www.tng-project.org/api/TNG50-1/snapshots/33/subhalos/145492/sublink_gal/mdb.hdf5', 'sublinkgal_simple': 'http://www.tng-project.org/api/TNG50-1/snapshots/33/subhalos/145492/sublink_gal/simple.json', 'lhalotree': 'http://www.tng-project.org/api/TNG50-1/snapshots/33/subhalos/145492/lhalotree/full.hdf5', 'lhalotree_mpb': 'http://www.tng-project.org/api/TNG50-1/snapshots/33/subhalos/145492/lhalotree/mpb.hdf5'}\n",
      "supplementary_data: {}\n",
      "vis: {'mergertree_sublink': 'http://www.tng-project.org/api/TNG50-1/snapshots/33/subhalos/145492/sublink/tree.png', 'halo_gas_dens': 'http://www.tng-project.org/api/TNG50-1/snapshots/33/subhalos/145492/vis.png?partType=gas', 'halo_gas_temp': 'http://www.tng-project.org/api/TNG50-1/snapshots/33/subhalos/145492/vis.png?partType=gas&partField=temp', 'halo_dm_dens': 'http://www.tng-project.org/api/TNG50-1/snapshots/33/subhalos/145492/vis.png?partType=dm', 'halo_stellar_dens': 'http://www.tng-project.org/api/TNG50-1/snapshots/33/subhalos/145492/vis.png?partType=stars', 'galaxy_gas_dens': 'http://www.tng-project.org/api/TNG50-1/snapshots/33/subhalos/145492/vis.png?partType=gas&size=5.0&sizeType=rHalfMassStars', 'galaxy_gas_dens_faceon': 'http://www.tng-project.org/api/TNG50-1/snapshots/33/subhalos/145492/vis.png?partType=gas&size=5.0&sizeType=rHalfMassStars&rotation=face-on', 'galaxy_stellar_light': 'http://www.tng-project.org/api/TNG50-1/snapshots/33/subhalos/145492/vis.png?partType=stars&partField=stellarComp-jwst_f200w-jwst_f115w-jwst_f070w&size=5.0&sizeType=rHalfMassStars', 'galaxy_stellar_light_faceon': 'http://www.tng-project.org/api/TNG50-1/snapshots/33/subhalos/145492/vis.png?partType=stars&partField=stellarComp-jwst_f200w-jwst_f115w-jwst_f070w&size=5.0&sizeType=rHalfMassStars&rotation=face-on'}\n",
      "meta: {'url': 'http://www.tng-project.org/api/TNG50-1/snapshots/33/subhalos/145492/', 'snapshot': 'http://www.tng-project.org/api/TNG50-1/snapshots/33/', 'simulation': 'http://www.tng-project.org/api/TNG50-1/', 'info': 'http://www.tng-project.org/api/TNG50-1/snapshots/33/subhalos/145492/info.json'}\n",
      "snapshot redshift: 2.00202813925285\n"
     ]
    }
   ],
   "source": [
    "subhalo_properties = pickle.load(open(f'data/subhalo_properties_{id}.pck','rb'))\n",
    "for k,v in subhalo_properties.items():\n",
    "    print(f'{k}: {v}')\n",
    "\n",
    "snapshot_redshift = snapshot_redshifts[subhalo_properties['snap']]\n",
    "print(f'snapshot redshift: {snapshot_redshift}')"
   ]
  },
  {
   "attachments": {},
   "cell_type": "markdown",
   "metadata": {},
   "source": [
    "Explore HDF5 file"
   ]
  },
  {
   "cell_type": "code",
   "execution_count": 94,
   "metadata": {},
   "outputs": [
    {
     "name": "stdout",
     "output_type": "stream",
     "text": [
      "Header\n",
      "PartType0\n",
      "PartType0/Coordinates\n",
      "PartType0/GFM_Metallicity\n",
      "PartType0/Masses\n",
      "PartType0/SubfindHsml\n",
      "PartType4\n",
      "PartType4/Coordinates\n",
      "PartType4/GFM_InitialMass\n",
      "PartType4/GFM_Metallicity\n",
      "PartType4/GFM_StellarFormationTime\n",
      "PartType4/Masses\n"
     ]
    }
   ],
   "source": [
    "with h5py.File(cutout_filename) as f:\n",
    "    f.visit(print)"
   ]
  },
  {
   "attachments": {},
   "cell_type": "markdown",
   "metadata": {},
   "source": [
    "### Creating a Galaxy object\n",
    "\n",
    "After downloading the data we need to create a synthesizer galaxy object.\n"
   ]
  },
  {
   "cell_type": "code",
   "execution_count": 95,
   "metadata": {},
   "outputs": [
    {
     "name": "stdout",
     "output_type": "stream",
     "text": [
      "[ 1.28551023 11.02964609 16.13499299] Mpc\n"
     ]
    }
   ],
   "source": [
    "\n",
    "from unyt import Msun, Mpc\n",
    "\n",
    "# define the centre of the galaxy\n",
    "centre = np.array([subhalo_properties['pos_x'],\n",
    "                   subhalo_properties['pos_y'],\n",
    "                   subhalo_properties['pos_z'],\n",
    "                   ]) * Mpc / (1 + snapshot_redshift) / h / 1000\n",
    "\n",
    "print(centre)\n",
    "\n",
    "with h5py.File(cutout_filename) as f:\n",
    "\n",
    "    # GFM_StellarFormationTime is the scale factor when the  \n",
    "    formation_scale_factor = f['PartType4']['GFM_StellarFormationTime'][()]\n",
    "    formation_redshift = 1/formation_scale_factor - 1.0\n",
    "    \n",
    "    # only select star particles that make sense\n",
    "    s = formation_redshift >= snapshot_redshift\n",
    "    formation_redshift = formation_redshift[s]\n",
    "\n",
    "    # calculate the ages of star particle and record as unyt quantity\n",
    "    ages = (cosmo.age(z=snapshot_redshift)-cosmo.age(formation_redshift)).to('Myr').value * Myr\n",
    "\n",
    "    # convert units of initial masses\n",
    "    initial_masses = f['PartType4']['GFM_InitialMass'][s] * Msun * 1E10 / h \n",
    "\n",
    "    # convert units of initial masses\n",
    "    current_masses = f['PartType4']['Masses'][s] * Msun * 1E10 / h \n",
    "\n",
    "    # define the coorindates of the star particles \n",
    "    x = f['PartType4']['Coordinates'][s,0] \n",
    "    y = f['PartType4']['Coordinates'][s,1] \n",
    "    z = f['PartType4']['Coordinates'][s,2] \n",
    "\n",
    "    # convert coordinates to physical and change the units\n",
    "    coordinates = np.array([x,y,z]).T / (1+snapshot_redshift) / h / 1000 * Mpc\n",
    "\n",
    "    # create a stars object\n",
    "    stars = Stars(\n",
    "        ages=ages,\n",
    "        initial_masses=initial_masses,\n",
    "        current_masses=current_masses,\n",
    "        metallicities=f['PartType4']['GFM_Metallicity'][s],\n",
    "        coordinates=coordinates,\n",
    "        centre=centre,\n",
    "        )\n",
    "    \n",
    "    # define the coorindates of the gas particles \n",
    "    x = f['PartType0']['Coordinates'][:,0] \n",
    "    y = f['PartType0']['Coordinates'][:,1] \n",
    "    z = f['PartType0']['Coordinates'][:,2] \n",
    "\n",
    "    # convert coordinates to physical and change the units\n",
    "    coordinates = np.array([x,y,z]).T  / (1 + snapshot_redshift) / h / 1000 * Mpc\n",
    "\n",
    "\n",
    "    # create a gas object\n",
    "    gas = Gas(\n",
    "        masses=f['PartType0']['Masses'][:] * 1E10 / h * Msun,\n",
    "        metallicities=f['PartType0']['GFM_Metallicity'][:],\n",
    "        smoothing_lengths=f['PartType0']['SubfindHsml'][:] / (1 + snapshot_redshift) / h / 1000 * Mpc,\n",
    "        coordinates=coordinates,\n",
    "        centre=centre,\n",
    "        )\n",
    "\n",
    "\n",
    "# initialise the galaxy object\n",
    "galaxy = Galaxy(stars=stars, gas=gas, centre=centre)"
   ]
  },
  {
   "attachments": {},
   "cell_type": "markdown",
   "metadata": {},
   "source": [
    "### Show SFZH"
   ]
  },
  {
   "cell_type": "code",
   "execution_count": 96,
   "metadata": {},
   "outputs": [
    {
     "data": {
      "image/png": "[encoded data removed]",
      "text/plain": [
       "<Figure size 350x350 with 3 Axes>"
      ]
     },
     "metadata": {},
     "output_type": "display_data"
    }
   ],
   "source": [
    "metallicities = galaxy.stars.metallicities\n",
    "ages = galaxy.stars.ages\n",
    "initial_masses = galaxy.stars._initial_masses\n",
    "\n",
    "cmap = cmr.sapphire\n",
    "age_range = [0., 3000.]\n",
    "log10metallicity_range = [-3.5, -1.]\n",
    "nbins = 40\n",
    "\n",
    "fig = plt.figure(figsize=(3.5, 3.5))\n",
    "\n",
    "bottom = 0.15\n",
    "height = 0.6\n",
    "hsize = 0.15\n",
    "left = 0.15\n",
    "width = 0.6\n",
    "\n",
    "ax = fig.add_axes((left, bottom, width, height))\n",
    "axx = fig.add_axes((left, bottom+height, width, hsize))\n",
    "axy = fig.add_axes((left+width, bottom, hsize, height))\n",
    "\n",
    "hist, xedges, yedges = np.histogram2d(ages.to('Myr').value, \n",
    "                                      np.log10(metallicities), \n",
    "                                      bins=[nbins,nbins], \n",
    "                                      range=[age_range, log10metallicity_range],\n",
    "                                      weights=initial_masses)\n",
    "\n",
    "axx.hist(ages.to('Myr').value, bins=nbins, range=age_range, weights=initial_masses,color='0.5')\n",
    "axy.hist(np.log10(metallicities), bins=nbins, range=log10metallicity_range, weights=initial_masses, orientation='horizontal',color='0.5')\n",
    "\n",
    "ax.imshow(hist.T, \n",
    "           origin='lower', \n",
    "           interpolation='nearest', \n",
    "           extent=[*age_range, *log10metallicity_range],\n",
    "           aspect='auto',\n",
    "           cmap=cmap)\n",
    "\n",
    "\n",
    "axx.set_xlim(age_range)\n",
    "axx.set_yticklabels([])\n",
    "axx.xaxis.set_ticks_position('top')\n",
    "\n",
    "axy.set_ylim(log10metallicity_range)\n",
    "axy.set_xticklabels([])\n",
    "axy.yaxis.set_ticks_position('right')\n",
    "\n",
    "ax.set_xlabel(r'$\\rm age/Myr$')\n",
    "ax.set_ylabel(r'$\\rm log_{10}(metallicity)$')\n",
    "\n",
    "fig.savefig('figs/tng-age_metallicity.pdf')\n",
    "fig.show()"
   ]
  },
  {
   "attachments": {},
   "cell_type": "markdown",
   "metadata": {},
   "source": [
    "### LOS dust\n",
    "\n",
    "Calculate the line-of-sight surface density of dust to each star particle in the galaxy.\n",
    "\n",
    "This should take up-to 20 minutes.\n",
    "\n"
   ]
  },
  {
   "cell_type": "code",
   "execution_count": 97,
   "metadata": {},
   "outputs": [],
   "source": [
    "from synthesizer.kernel_functions import Kernel\n",
    "\n",
    "# kappa = 0.3\n",
    "# kernel = Kernel().get_kernel()\n",
    "# galaxy.calculate_los_tau_v(kappa=kappa, kernel=kernel, force_loop=True)\n",
    "\n",
    "galaxy.stars.tau_v = 0.5 * np.ones(len(galaxy.stars.ages))\n"
   ]
  },
  {
   "attachments": {},
   "cell_type": "markdown",
   "metadata": {},
   "source": [
    "Plot the distribution of $\\tau_V$ values:"
   ]
  },
  {
   "cell_type": "code",
   "execution_count": 98,
   "metadata": {},
   "outputs": [
    {
     "data": {
      "image/png": "[encoded data removed]",
      "text/plain": [
       "<Figure size 640x480 with 1 Axes>"
      ]
     },
     "metadata": {},
     "output_type": "display_data"
    }
   ],
   "source": [
    "tauv = galaxy.stars.tau_v\n",
    "tauv = tauv[tauv>0.0]\n",
    "\n",
    "plt.hist(np.log10(tauv), bins=100)\n",
    "plt.show()"
   ]
  },
  {
   "attachments": {},
   "cell_type": "markdown",
   "metadata": {},
   "source": [
    "### Save\n",
    "\n",
    "We now use pickle to save the Galaxy object for use in other notebooks."
   ]
  },
  {
   "cell_type": "code",
   "execution_count": 99,
   "metadata": {},
   "outputs": [],
   "source": [
    "import pickle\n",
    "\n",
    "pickle.dump(galaxy, open(f'data/galaxy_{id}.pck','wb'))"
   ]
  }
 ],
 "metadata": {
  "kernelspec": {
   "display_name": "venv",
   "language": "python",
   "name": "python3"
  },
  "language_info": {
   "codemirror_mode": {
    "name": "ipython",
    "version": 3
   },
   "file_extension": ".py",
   "mimetype": "text/x-python",
   "name": "python",
   "nbconvert_exporter": "python",
   "pygments_lexer": "ipython3",
   "version": "3.10.11"
  },
  "orig_nbformat": 4,
  "vscode": {
   "interpreter": {
    "hash": "1053b2788241b0fa383aca233aaf72656c52b8b11178272842225955a19ba6e4"
   }
  }
 },
 "nbformat": 4,
 "nbformat_minor": 2
}
