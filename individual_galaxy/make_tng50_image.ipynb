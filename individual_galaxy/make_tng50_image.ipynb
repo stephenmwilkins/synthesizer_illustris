{
 "cells": [
  {
   "cell_type": "code",
   "execution_count": 1,
   "metadata": {},
   "outputs": [],
   "source": [
    "import matplotlib.pyplot as plt\n",
    "import cmasher as cmr\n",
    "import numpy as np\n",
    "from unyt import Myr, K, kpc, Angstrom\n"
   ]
  },
  {
   "cell_type": "code",
   "execution_count": 2,
   "metadata": {},
   "outputs": [],
   "source": [
    "# set style\n",
    "# plt.style.use('../../matplotlibrc.txt')"
   ]
  },
  {
   "attachments": {},
   "cell_type": "markdown",
   "metadata": {},
   "source": [
    "### Read in Galaxy object"
   ]
  },
  {
   "cell_type": "code",
   "execution_count": 3,
   "metadata": {},
   "outputs": [],
   "source": [
    "import pickle\n",
    "\n",
    "# Define object ID\n",
    "id = '145492'\n",
    "\n",
    "# Initialise Galaxy object\n",
    "galaxy = pickle.load(open(f'data/galaxy_{id}.pck','rb'))"
   ]
  },
  {
   "attachments": {},
   "cell_type": "markdown",
   "metadata": {},
   "source": [
    "## Make an image of various physical properties"
   ]
  },
  {
   "cell_type": "code",
   "execution_count": 4,
   "metadata": {},
   "outputs": [],
   "source": [
    "# Define the width of the image\n",
    "width = 2 * kpc\n",
    "\n",
    "# Define image resolution (here we arbitrarily set it to\n",
    "# 200 pixels along an axis)\n",
    "resolution = width / 50"
   ]
  },
  {
   "cell_type": "code",
   "execution_count": 5,
   "metadata": {},
   "outputs": [
    {
     "data": {
      "image/png": "[encoded data removed]",
      "text/plain": [
       "<Figure size 350x350 with 2 Axes>"
      ]
     },
     "metadata": {},
     "output_type": "display_data"
    }
   ],
   "source": [
    "\n",
    "# Make the stellar mass map\n",
    "stellar_mass_map = galaxy.get_map_stellar_mass(\n",
    "    resolution=resolution,\n",
    "    fov=width,\n",
    "    img_type=\"hist\",\n",
    ")\n",
    "\n",
    "fig, ax = stellar_mass_map.plot_map(\n",
    "    show=True,\n",
    "    cmap=\"plasma\",\n",
    "    cbar_label=r\"$M_\\star/M_\\odot$\",\n",
    ")\n",
    "plt.close(fig)"
   ]
  },
  {
   "attachments": {},
   "cell_type": "markdown",
   "metadata": {},
   "source": [
    "## Rest-frame luminosity Figure"
   ]
  },
  {
   "attachments": {},
   "cell_type": "markdown",
   "metadata": {},
   "source": [
    "Define the photometric filters"
   ]
  },
  {
   "cell_type": "code",
   "execution_count": 6,
   "metadata": {},
   "outputs": [
    {
     "name": "stdout",
     "output_type": "stream",
     "text": [
      "120\n"
     ]
    },
    {
     "name": "stderr",
     "output_type": "stream",
     "text": [
      "/var/folders/1r/dyc06cz53k1g87b17q09by98000ft2/T/ipykernel_58826/1733379677.py:1: FutureWarning: The filters module has been moved to the instruments module. Please update your imports synthesizer.filters -> synthesizer.instruments\n",
      "  from synthesizer.filters import Filter, FilterCollection\n"
     ]
    }
   ],
   "source": [
    "from synthesizer.filters import Filter, FilterCollection\n",
    "\n",
    "tophats = {\n",
    "    \"U\": {\"lam_eff\": 3650 * Angstrom, \"lam_fwhm\": 660 * Angstrom},\n",
    "    \"V\": {\"lam_eff\": 5510 * Angstrom, \"lam_fwhm\": 880 * Angstrom},\n",
    "    \"J\": {\"lam_eff\": 12200 * Angstrom, \"lam_fwhm\": 2130 * Angstrom},\n",
    "}\n",
    "\n",
    "filters = FilterCollection(\n",
    "    tophat_dict=tophats,\n",
    "    new_lam=np.arange(3000, 15000, 100) * Angstrom\n",
    ")\n",
    "\n",
    "print(filters.lam.size)"
   ]
  },
  {
   "attachments": {},
   "cell_type": "markdown",
   "metadata": {},
   "source": [
    "Generate the photometry for every single star particle."
   ]
  },
  {
   "cell_type": "code",
   "execution_count": 7,
   "metadata": {},
   "outputs": [],
   "source": [
    "from synthesizer.grid import Grid\n",
    "from synthesizer.emission_models import ScreenEmission\n",
    "from synthesizer.emission_models.attenuation import PowerLaw\n",
    "from synthesizer.emission_models.dust.emission import Blackbody, Greybody\n",
    "\n",
    "# define grid_dir and grid_name\n",
    "grid_dir = '/Users/sw376/Dropbox/Research/data/synthesizer/grids/'\n",
    "grid_name = 'bpass-2.2.1-bin_chabrier03-0.1,300.0_cloudy-c23.01-sps'\n",
    "\n",
    "\n",
    "# initialise the grid, but with a restricted wavelength range and resolution\n",
    "grid = Grid(grid_name, grid_dir=grid_dir, new_lam=filters.lam)"
   ]
  },
  {
   "cell_type": "code",
   "execution_count": 8,
   "metadata": {},
   "outputs": [],
   "source": [
    "\n",
    "# specify a power-law dust curve\n",
    "alpha = -1.0 # dust curve slope\n",
    "dust_curve = PowerLaw(slope=alpha)\n",
    "\n",
    "# Define the emission model, in this case Screen emission which just allows you to define tau_v for each particle\n",
    "emission_model = ScreenEmission(\n",
    "    grid=grid, \n",
    "    tau_v=\"tau_v\", \n",
    "    # tau_v=0.5, \n",
    "    dust_curve=dust_curve,\n",
    "    fesc=0.0,\n",
    "    fesc_ly_alpha=1.0,\n",
    "    per_particle=True\n",
    "    )"
   ]
  },
  {
   "cell_type": "code",
   "execution_count": 9,
   "metadata": {},
   "outputs": [
    {
     "ename": "MissingAttribute",
     "evalue": "fesc can't be found on the model (escaped), emission (Sed), or emitter (Stars).  [EmissionModel.label: escaped] ",
     "output_type": "error",
     "traceback": [
      "\u001b[0;31m---------------------------------------------------------------------------\u001b[0m",
      "\u001b[0;31mMissingAttribute\u001b[0m                          Traceback (most recent call last)",
      "File \u001b[0;32m~/Dropbox/Research/projects/synthesizer/src/synthesizer/emission_models/base_model.py:2483\u001b[0m, in \u001b[0;36mEmissionModel._get_spectra\u001b[0;34m(self, emitters, dust_curves, tau_v, fesc, covering_fraction, mask, vel_shift, verbose, spectra, particle_spectra, _is_related, nthreads, grid_assignment_method, **fixed_parameters)\u001b[0m\n\u001b[1;32m   2482\u001b[0m \u001b[39mtry\u001b[39;00m:\n\u001b[0;32m-> 2483\u001b[0m     spectra, particle_spectra \u001b[39m=\u001b[39m this_model\u001b[39m.\u001b[39;49m_transform_emission(\n\u001b[1;32m   2484\u001b[0m         this_model,\n\u001b[1;32m   2485\u001b[0m         spectra,\n\u001b[1;32m   2486\u001b[0m         particle_spectra,\n\u001b[1;32m   2487\u001b[0m         emitter,\n\u001b[1;32m   2488\u001b[0m         this_mask,\n\u001b[1;32m   2489\u001b[0m     )\n\u001b[1;32m   2490\u001b[0m \u001b[39mexcept\u001b[39;00m \u001b[39mException\u001b[39;00m \u001b[39mas\u001b[39;00m e:\n",
      "File \u001b[0;32m~/Dropbox/Research/projects/synthesizer/src/synthesizer/emission_models/operations.py:687\u001b[0m, in \u001b[0;36mTransformation._transform_emission\u001b[0;34m(self, this_model, emissions, particle_emissions, emitter, this_mask)\u001b[0m\n\u001b[1;32m    686\u001b[0m \u001b[39m# Apply the transform to the spectra\u001b[39;00m\n\u001b[0;32m--> 687\u001b[0m emission \u001b[39m=\u001b[39m \u001b[39mself\u001b[39;49m\u001b[39m.\u001b[39;49mtransformer\u001b[39m.\u001b[39;49m_transform(\n\u001b[1;32m    688\u001b[0m     apply_to,\n\u001b[1;32m    689\u001b[0m     emitter,\n\u001b[1;32m    690\u001b[0m     this_model,\n\u001b[1;32m    691\u001b[0m     this_mask \u001b[39mif\u001b[39;49;00m this_model\u001b[39m.\u001b[39;49mper_particle \u001b[39melse\u001b[39;49;00m \u001b[39mNone\u001b[39;49;00m,\n\u001b[1;32m    692\u001b[0m     this_model\u001b[39m.\u001b[39;49mlam_mask,\n\u001b[1;32m    693\u001b[0m )\n\u001b[1;32m    695\u001b[0m \u001b[39m# Store the spectra in the right place (integrating if we need to)\u001b[39;00m\n",
      "File \u001b[0;32m~/Dropbox/Research/projects/synthesizer/src/synthesizer/emission_models/transformers/escape_fraction.py:180\u001b[0m, in \u001b[0;36mEscapedFraction._transform\u001b[0;34m(self, emission, emitter, model, mask, lam_mask)\u001b[0m\n\u001b[1;32m    179\u001b[0m \u001b[39m# Extract the required parameters\u001b[39;00m\n\u001b[0;32m--> 180\u001b[0m params \u001b[39m=\u001b[39m \u001b[39mself\u001b[39;49m\u001b[39m.\u001b[39;49m_extract_params(model, emission, emitter)\n\u001b[1;32m    182\u001b[0m \u001b[39m# Ensure the mask is compatible with the emission\u001b[39;00m\n",
      "File \u001b[0;32m~/Dropbox/Research/projects/synthesizer/src/synthesizer/emission_models/transformers/transformer.py:114\u001b[0m, in \u001b[0;36mTransformer._extract_params\u001b[0;34m(self, model, emission, emitter)\u001b[0m\n\u001b[1;32m    113\u001b[0m \u001b[39m# Extract the parameters (Missing parameters will return None)\u001b[39;00m\n\u001b[0;32m--> 114\u001b[0m params \u001b[39m=\u001b[39m get_params(\u001b[39mself\u001b[39;49m\u001b[39m.\u001b[39;49m_required_params, model, emission, emitter)\n\u001b[1;32m    116\u001b[0m \u001b[39m# Check if any of the required parameters are missing\u001b[39;00m\n",
      "File \u001b[0;32m~/Dropbox/Research/projects/synthesizer/src/synthesizer/emission_models/utils.py:155\u001b[0m, in \u001b[0;36mget_params\u001b[0;34m(params, model, emission, emitter)\u001b[0m\n\u001b[1;32m    154\u001b[0m \u001b[39mfor\u001b[39;00m param \u001b[39min\u001b[39;00m params:\n\u001b[0;32m--> 155\u001b[0m     values[param] \u001b[39m=\u001b[39m get_param(\n\u001b[1;32m    156\u001b[0m         param,\n\u001b[1;32m    157\u001b[0m         model,\n\u001b[1;32m    158\u001b[0m         emission,\n\u001b[1;32m    159\u001b[0m         emitter,\n\u001b[1;32m    160\u001b[0m     )\n\u001b[1;32m    162\u001b[0m \u001b[39mreturn\u001b[39;00m values\n",
      "File \u001b[0;32m~/Dropbox/Research/projects/synthesizer/src/synthesizer/emission_models/utils.py:118\u001b[0m, in \u001b[0;36mget_param\u001b[0;34m(param, model, emission, emitter, default)\u001b[0m\n\u001b[1;32m    116\u001b[0m     \u001b[39mreturn\u001b[39;00m value\n\u001b[0;32m--> 118\u001b[0m \u001b[39mraise\u001b[39;00m exceptions\u001b[39m.\u001b[39mMissingAttribute(\n\u001b[1;32m    119\u001b[0m     \u001b[39mf\u001b[39m\u001b[39m\"\u001b[39m\u001b[39m{\u001b[39;00mparam\u001b[39m}\u001b[39;00m\u001b[39m can\u001b[39m\u001b[39m'\u001b[39m\u001b[39mt be found on the model \u001b[39m\u001b[39m\"\u001b[39m\n\u001b[1;32m    120\u001b[0m     \u001b[39mf\u001b[39m\u001b[39m\"\u001b[39m\u001b[39m(\u001b[39m\u001b[39m{\u001b[39;00mmodel\u001b[39m.\u001b[39mlabel\u001b[39m \u001b[39m\u001b[39mif\u001b[39;00m\u001b[39m \u001b[39mmodel\u001b[39m \u001b[39m\u001b[39mis\u001b[39;00m\u001b[39m \u001b[39m\u001b[39mnot\u001b[39;00m\u001b[39m \u001b[39m\u001b[39mNone\u001b[39;00m\u001b[39m \u001b[39m\u001b[39melse\u001b[39;00m\u001b[39m \u001b[39m\u001b[39mNone\u001b[39;00m\u001b[39m}\u001b[39;00m\u001b[39m),\u001b[39m\u001b[39m\"\u001b[39m\n\u001b[1;32m    121\u001b[0m     \u001b[39m\"\u001b[39m\u001b[39m emission (\u001b[39m\u001b[39m\"\u001b[39m\n\u001b[1;32m    122\u001b[0m     \u001b[39mf\u001b[39m\u001b[39m\"\u001b[39m\u001b[39m{\u001b[39;00memission\u001b[39m.\u001b[39m\u001b[39m__class__\u001b[39m\u001b[39m.\u001b[39m\u001b[39m__name__\u001b[39m\u001b[39m \u001b[39m\u001b[39mif\u001b[39;00m\u001b[39m \u001b[39memission\u001b[39m \u001b[39m\u001b[39mis\u001b[39;00m\u001b[39m \u001b[39m\u001b[39mnot\u001b[39;00m\u001b[39m \u001b[39m\u001b[39mNone\u001b[39;00m\u001b[39m \u001b[39m\u001b[39melse\u001b[39;00m\u001b[39m \u001b[39m\u001b[39mNone\u001b[39;00m\u001b[39m}\u001b[39;00m\u001b[39m\"\u001b[39m\n\u001b[1;32m    123\u001b[0m     \u001b[39m\"\u001b[39m\u001b[39m), or emitter (\u001b[39m\u001b[39m\"\u001b[39m\n\u001b[1;32m    124\u001b[0m     \u001b[39mf\u001b[39m\u001b[39m\"\u001b[39m\u001b[39m{\u001b[39;00memitter\u001b[39m.\u001b[39m\u001b[39m__class__\u001b[39m\u001b[39m.\u001b[39m\u001b[39m__name__\u001b[39m\u001b[39m \u001b[39m\u001b[39mif\u001b[39;00m\u001b[39m \u001b[39memitter\u001b[39m \u001b[39m\u001b[39mis\u001b[39;00m\u001b[39m \u001b[39m\u001b[39mnot\u001b[39;00m\u001b[39m \u001b[39m\u001b[39mNone\u001b[39;00m\u001b[39m \u001b[39m\u001b[39melse\u001b[39;00m\u001b[39m \u001b[39m\u001b[39mNone\u001b[39;00m\u001b[39m}\u001b[39;00m\u001b[39m).\u001b[39m\u001b[39m\"\u001b[39m\n\u001b[1;32m    125\u001b[0m )\n",
      "\u001b[0;31mMissingAttribute\u001b[0m: fesc can't be found on the model (escaped), emission (Sed), or emitter (Stars). ",
      "\nDuring handling of the above exception, another exception occurred:\n",
      "\u001b[0;31mMissingAttribute\u001b[0m                          Traceback (most recent call last)",
      "Cell \u001b[0;32mIn[9], line 2\u001b[0m\n\u001b[1;32m      1\u001b[0m \u001b[39m# generate the spectra of every star particle\u001b[39;00m\n\u001b[0;32m----> 2\u001b[0m galaxy\u001b[39m.\u001b[39;49mstars\u001b[39m.\u001b[39;49mget_spectra(emission_model)\n\u001b[1;32m      4\u001b[0m \u001b[39m# generate the photometry\u001b[39;00m\n\u001b[1;32m      5\u001b[0m galaxy\u001b[39m.\u001b[39mget_photo_lnu(filters)\n",
      "File \u001b[0;32m~/Dropbox/Research/projects/synthesizer/src/synthesizer/components/component.py:378\u001b[0m, in \u001b[0;36mComponent.get_spectra\u001b[0;34m(self, emission_model, dust_curves, tau_v, fesc, mask, vel_shift, verbose, nthreads, grid_assignment_method, **kwargs)\u001b[0m\n\u001b[1;32m    319\u001b[0m \u001b[39m\u001b[39m\u001b[39m\"\"\"Generate stellar spectra as described by the emission model.\u001b[39;00m\n\u001b[1;32m    320\u001b[0m \n\u001b[1;32m    321\u001b[0m \u001b[39mArgs:\u001b[39;00m\n\u001b[0;32m   (...)\u001b[0m\n\u001b[1;32m    375\u001b[0m \u001b[39m        (spectra/particle_spectra)\u001b[39;00m\n\u001b[1;32m    376\u001b[0m \u001b[39m\"\"\"\u001b[39;00m\n\u001b[1;32m    377\u001b[0m \u001b[39m# Get the spectra\u001b[39;00m\n\u001b[0;32m--> 378\u001b[0m spectra, particle_spectra \u001b[39m=\u001b[39m emission_model\u001b[39m.\u001b[39;49m_get_spectra(\n\u001b[1;32m    379\u001b[0m     emitters\u001b[39m=\u001b[39;49m{\u001b[39m\"\u001b[39;49m\u001b[39mstellar\u001b[39;49m\u001b[39m\"\u001b[39;49m: \u001b[39mself\u001b[39;49m}\n\u001b[1;32m    380\u001b[0m     \u001b[39mif\u001b[39;49;00m \u001b[39mself\u001b[39;49m\u001b[39m.\u001b[39;49mcomponent_type \u001b[39m==\u001b[39;49m \u001b[39m\"\u001b[39;49m\u001b[39mStars\u001b[39;49m\u001b[39m\"\u001b[39;49m\n\u001b[1;32m    381\u001b[0m     \u001b[39melse\u001b[39;49;00m {\u001b[39m\"\u001b[39;49m\u001b[39mblackhole\u001b[39;49m\u001b[39m\"\u001b[39;49m: \u001b[39mself\u001b[39;49m},\n\u001b[1;32m    382\u001b[0m     dust_curves\u001b[39m=\u001b[39;49mdust_curves,\n\u001b[1;32m    383\u001b[0m     tau_v\u001b[39m=\u001b[39;49mtau_v,\n\u001b[1;32m    384\u001b[0m     fesc\u001b[39m=\u001b[39;49mfesc,\n\u001b[1;32m    385\u001b[0m     mask\u001b[39m=\u001b[39;49mmask,\n\u001b[1;32m    386\u001b[0m     vel_shift\u001b[39m=\u001b[39;49mvel_shift,\n\u001b[1;32m    387\u001b[0m     verbose\u001b[39m=\u001b[39;49mverbose,\n\u001b[1;32m    388\u001b[0m     nthreads\u001b[39m=\u001b[39;49mnthreads,\n\u001b[1;32m    389\u001b[0m     grid_assignment_method\u001b[39m=\u001b[39;49mgrid_assignment_method,\n\u001b[1;32m    390\u001b[0m     \u001b[39m*\u001b[39;49m\u001b[39m*\u001b[39;49mkwargs,\n\u001b[1;32m    391\u001b[0m )\n\u001b[1;32m    393\u001b[0m \u001b[39m# Update the spectra dictionary\u001b[39;00m\n\u001b[1;32m    394\u001b[0m \u001b[39mself\u001b[39m\u001b[39m.\u001b[39mspectra\u001b[39m.\u001b[39mupdate(spectra)\n",
      "File \u001b[0;32m~/Dropbox/Research/projects/synthesizer/src/synthesizer/emission_models/base_model.py:2495\u001b[0m, in \u001b[0;36mEmissionModel._get_spectra\u001b[0;34m(self, emitters, dust_curves, tau_v, fesc, covering_fraction, mask, vel_shift, verbose, spectra, particle_spectra, _is_related, nthreads, grid_assignment_method, **fixed_parameters)\u001b[0m\n\u001b[1;32m   2493\u001b[0m             \u001b[39mraise\u001b[39;00m\n\u001b[1;32m   2494\u001b[0m         \u001b[39melse\u001b[39;00m:\n\u001b[0;32m-> 2495\u001b[0m             \u001b[39mraise\u001b[39;00m \u001b[39mtype\u001b[39m(e)(\n\u001b[1;32m   2496\u001b[0m                 \u001b[39mf\u001b[39m\u001b[39m\"\u001b[39m\u001b[39m{\u001b[39;00me\u001b[39m}\u001b[39;00m\u001b[39m [EmissionModel.label: \u001b[39m\u001b[39m{\u001b[39;00mthis_model\u001b[39m.\u001b[39mlabel\u001b[39m}\u001b[39;00m\u001b[39m]\u001b[39m\u001b[39m\"\u001b[39m\n\u001b[1;32m   2497\u001b[0m             )\u001b[39m.\u001b[39mwith_traceback(e\u001b[39m.\u001b[39m__traceback__)\n\u001b[1;32m   2499\u001b[0m \u001b[39melif\u001b[39;00m this_model\u001b[39m.\u001b[39m_is_dust_emitting \u001b[39mor\u001b[39;00m this_model\u001b[39m.\u001b[39m_is_generating:\n\u001b[1;32m   2500\u001b[0m     \u001b[39mtry\u001b[39;00m:\n",
      "File \u001b[0;32m~/Dropbox/Research/projects/synthesizer/src/synthesizer/emission_models/base_model.py:2483\u001b[0m, in \u001b[0;36mEmissionModel._get_spectra\u001b[0;34m(self, emitters, dust_curves, tau_v, fesc, covering_fraction, mask, vel_shift, verbose, spectra, particle_spectra, _is_related, nthreads, grid_assignment_method, **fixed_parameters)\u001b[0m\n\u001b[1;32m   2481\u001b[0m \u001b[39melif\u001b[39;00m this_model\u001b[39m.\u001b[39m_is_transforming:\n\u001b[1;32m   2482\u001b[0m     \u001b[39mtry\u001b[39;00m:\n\u001b[0;32m-> 2483\u001b[0m         spectra, particle_spectra \u001b[39m=\u001b[39m this_model\u001b[39m.\u001b[39;49m_transform_emission(\n\u001b[1;32m   2484\u001b[0m             this_model,\n\u001b[1;32m   2485\u001b[0m             spectra,\n\u001b[1;32m   2486\u001b[0m             particle_spectra,\n\u001b[1;32m   2487\u001b[0m             emitter,\n\u001b[1;32m   2488\u001b[0m             this_mask,\n\u001b[1;32m   2489\u001b[0m         )\n\u001b[1;32m   2490\u001b[0m     \u001b[39mexcept\u001b[39;00m \u001b[39mException\u001b[39;00m \u001b[39mas\u001b[39;00m e:\n\u001b[1;32m   2491\u001b[0m         \u001b[39mif\u001b[39;00m sys\u001b[39m.\u001b[39mversion_info \u001b[39m>\u001b[39m\u001b[39m=\u001b[39m (\u001b[39m3\u001b[39m, \u001b[39m11\u001b[39m):\n",
      "File \u001b[0;32m~/Dropbox/Research/projects/synthesizer/src/synthesizer/emission_models/operations.py:687\u001b[0m, in \u001b[0;36mTransformation._transform_emission\u001b[0;34m(self, this_model, emissions, particle_emissions, emitter, this_mask)\u001b[0m\n\u001b[1;32m    684\u001b[0m     apply_to \u001b[39m=\u001b[39m emissions[this_model\u001b[39m.\u001b[39mapply_to\u001b[39m.\u001b[39mlabel]\n\u001b[1;32m    686\u001b[0m \u001b[39m# Apply the transform to the spectra\u001b[39;00m\n\u001b[0;32m--> 687\u001b[0m emission \u001b[39m=\u001b[39m \u001b[39mself\u001b[39;49m\u001b[39m.\u001b[39;49mtransformer\u001b[39m.\u001b[39;49m_transform(\n\u001b[1;32m    688\u001b[0m     apply_to,\n\u001b[1;32m    689\u001b[0m     emitter,\n\u001b[1;32m    690\u001b[0m     this_model,\n\u001b[1;32m    691\u001b[0m     this_mask \u001b[39mif\u001b[39;49;00m this_model\u001b[39m.\u001b[39;49mper_particle \u001b[39melse\u001b[39;49;00m \u001b[39mNone\u001b[39;49;00m,\n\u001b[1;32m    692\u001b[0m     this_model\u001b[39m.\u001b[39;49mlam_mask,\n\u001b[1;32m    693\u001b[0m )\n\u001b[1;32m    695\u001b[0m \u001b[39m# Store the spectra in the right place (integrating if we need to)\u001b[39;00m\n\u001b[1;32m    696\u001b[0m \u001b[39mif\u001b[39;00m this_model\u001b[39m.\u001b[39mper_particle:\n",
      "File \u001b[0;32m~/Dropbox/Research/projects/synthesizer/src/synthesizer/emission_models/transformers/escape_fraction.py:180\u001b[0m, in \u001b[0;36mEscapedFraction._transform\u001b[0;34m(self, emission, emitter, model, mask, lam_mask)\u001b[0m\n\u001b[1;32m    162\u001b[0m \u001b[39m\u001b[39m\u001b[39m\"\"\"Apply the escape fraction to the emission.\u001b[39;00m\n\u001b[1;32m    163\u001b[0m \n\u001b[1;32m    164\u001b[0m \u001b[39mArgs:\u001b[39;00m\n\u001b[0;32m   (...)\u001b[0m\n\u001b[1;32m    177\u001b[0m \u001b[39m    Line/Sed: The transformed emission.\u001b[39;00m\n\u001b[1;32m    178\u001b[0m \u001b[39m\"\"\"\u001b[39;00m\n\u001b[1;32m    179\u001b[0m \u001b[39m# Extract the required parameters\u001b[39;00m\n\u001b[0;32m--> 180\u001b[0m params \u001b[39m=\u001b[39m \u001b[39mself\u001b[39;49m\u001b[39m.\u001b[39;49m_extract_params(model, emission, emitter)\n\u001b[1;32m    182\u001b[0m \u001b[39m# Ensure the mask is compatible with the emission\u001b[39;00m\n\u001b[1;32m    183\u001b[0m \u001b[39mif\u001b[39;00m (\n\u001b[1;32m    184\u001b[0m     mask \u001b[39mis\u001b[39;00m \u001b[39mnot\u001b[39;00m \u001b[39mNone\u001b[39;00m\n\u001b[1;32m    185\u001b[0m     \u001b[39mand\u001b[39;00m mask\u001b[39m.\u001b[39mshape \u001b[39m!=\u001b[39m emission\u001b[39m.\u001b[39mshape[: \u001b[39mlen\u001b[39m(mask\u001b[39m.\u001b[39mshape)]\n\u001b[1;32m    186\u001b[0m ):\n",
      "File \u001b[0;32m~/Dropbox/Research/projects/synthesizer/src/synthesizer/emission_models/transformers/transformer.py:114\u001b[0m, in \u001b[0;36mTransformer._extract_params\u001b[0;34m(self, model, emission, emitter)\u001b[0m\n\u001b[1;32m     94\u001b[0m \u001b[39m\u001b[39m\u001b[39m\"\"\"Extract the required parameters for the transformation.\u001b[39;00m\n\u001b[1;32m     95\u001b[0m \n\u001b[1;32m     96\u001b[0m \u001b[39mThis method should look for the required parameters in\u001b[39;00m\n\u001b[0;32m   (...)\u001b[0m\n\u001b[1;32m    111\u001b[0m \u001b[39m        A dictionary containing the required parameters.\u001b[39;00m\n\u001b[1;32m    112\u001b[0m \u001b[39m\"\"\"\u001b[39;00m\n\u001b[1;32m    113\u001b[0m \u001b[39m# Extract the parameters (Missing parameters will return None)\u001b[39;00m\n\u001b[0;32m--> 114\u001b[0m params \u001b[39m=\u001b[39m get_params(\u001b[39mself\u001b[39;49m\u001b[39m.\u001b[39;49m_required_params, model, emission, emitter)\n\u001b[1;32m    116\u001b[0m \u001b[39m# Check if any of the required parameters are missing\u001b[39;00m\n\u001b[1;32m    117\u001b[0m missing_params \u001b[39m=\u001b[39m [\n\u001b[1;32m    118\u001b[0m     param \u001b[39mfor\u001b[39;00m param, value \u001b[39min\u001b[39;00m params\u001b[39m.\u001b[39mitems() \u001b[39mif\u001b[39;00m value \u001b[39mis\u001b[39;00m \u001b[39mNone\u001b[39;00m\n\u001b[1;32m    119\u001b[0m ]\n",
      "File \u001b[0;32m~/Dropbox/Research/projects/synthesizer/src/synthesizer/emission_models/utils.py:155\u001b[0m, in \u001b[0;36mget_params\u001b[0;34m(params, model, emission, emitter)\u001b[0m\n\u001b[1;32m    153\u001b[0m values \u001b[39m=\u001b[39m {}\n\u001b[1;32m    154\u001b[0m \u001b[39mfor\u001b[39;00m param \u001b[39min\u001b[39;00m params:\n\u001b[0;32m--> 155\u001b[0m     values[param] \u001b[39m=\u001b[39m get_param(\n\u001b[1;32m    156\u001b[0m         param,\n\u001b[1;32m    157\u001b[0m         model,\n\u001b[1;32m    158\u001b[0m         emission,\n\u001b[1;32m    159\u001b[0m         emitter,\n\u001b[1;32m    160\u001b[0m     )\n\u001b[1;32m    162\u001b[0m \u001b[39mreturn\u001b[39;00m values\n",
      "File \u001b[0;32m~/Dropbox/Research/projects/synthesizer/src/synthesizer/emission_models/utils.py:118\u001b[0m, in \u001b[0;36mget_param\u001b[0;34m(param, model, emission, emitter, default)\u001b[0m\n\u001b[1;32m    115\u001b[0m \u001b[39mif\u001b[39;00m value \u001b[39mis\u001b[39;00m \u001b[39mnot\u001b[39;00m \u001b[39mNone\u001b[39;00m:\n\u001b[1;32m    116\u001b[0m     \u001b[39mreturn\u001b[39;00m value\n\u001b[0;32m--> 118\u001b[0m \u001b[39mraise\u001b[39;00m exceptions\u001b[39m.\u001b[39mMissingAttribute(\n\u001b[1;32m    119\u001b[0m     \u001b[39mf\u001b[39m\u001b[39m\"\u001b[39m\u001b[39m{\u001b[39;00mparam\u001b[39m}\u001b[39;00m\u001b[39m can\u001b[39m\u001b[39m'\u001b[39m\u001b[39mt be found on the model \u001b[39m\u001b[39m\"\u001b[39m\n\u001b[1;32m    120\u001b[0m     \u001b[39mf\u001b[39m\u001b[39m\"\u001b[39m\u001b[39m(\u001b[39m\u001b[39m{\u001b[39;00mmodel\u001b[39m.\u001b[39mlabel\u001b[39m \u001b[39m\u001b[39mif\u001b[39;00m\u001b[39m \u001b[39mmodel\u001b[39m \u001b[39m\u001b[39mis\u001b[39;00m\u001b[39m \u001b[39m\u001b[39mnot\u001b[39;00m\u001b[39m \u001b[39m\u001b[39mNone\u001b[39;00m\u001b[39m \u001b[39m\u001b[39melse\u001b[39;00m\u001b[39m \u001b[39m\u001b[39mNone\u001b[39;00m\u001b[39m}\u001b[39;00m\u001b[39m),\u001b[39m\u001b[39m\"\u001b[39m\n\u001b[1;32m    121\u001b[0m     \u001b[39m\"\u001b[39m\u001b[39m emission (\u001b[39m\u001b[39m\"\u001b[39m\n\u001b[1;32m    122\u001b[0m     \u001b[39mf\u001b[39m\u001b[39m\"\u001b[39m\u001b[39m{\u001b[39;00memission\u001b[39m.\u001b[39m\u001b[39m__class__\u001b[39m\u001b[39m.\u001b[39m\u001b[39m__name__\u001b[39m\u001b[39m \u001b[39m\u001b[39mif\u001b[39;00m\u001b[39m \u001b[39memission\u001b[39m \u001b[39m\u001b[39mis\u001b[39;00m\u001b[39m \u001b[39m\u001b[39mnot\u001b[39;00m\u001b[39m \u001b[39m\u001b[39mNone\u001b[39;00m\u001b[39m \u001b[39m\u001b[39melse\u001b[39;00m\u001b[39m \u001b[39m\u001b[39mNone\u001b[39;00m\u001b[39m}\u001b[39;00m\u001b[39m\"\u001b[39m\n\u001b[1;32m    123\u001b[0m     \u001b[39m\"\u001b[39m\u001b[39m), or emitter (\u001b[39m\u001b[39m\"\u001b[39m\n\u001b[1;32m    124\u001b[0m     \u001b[39mf\u001b[39m\u001b[39m\"\u001b[39m\u001b[39m{\u001b[39;00memitter\u001b[39m.\u001b[39m\u001b[39m__class__\u001b[39m\u001b[39m.\u001b[39m\u001b[39m__name__\u001b[39m\u001b[39m \u001b[39m\u001b[39mif\u001b[39;00m\u001b[39m \u001b[39memitter\u001b[39m \u001b[39m\u001b[39mis\u001b[39;00m\u001b[39m \u001b[39m\u001b[39mnot\u001b[39;00m\u001b[39m \u001b[39m\u001b[39mNone\u001b[39;00m\u001b[39m \u001b[39m\u001b[39melse\u001b[39;00m\u001b[39m \u001b[39m\u001b[39mNone\u001b[39;00m\u001b[39m}\u001b[39;00m\u001b[39m).\u001b[39m\u001b[39m\"\u001b[39m\n\u001b[1;32m    125\u001b[0m )\n",
      "\u001b[0;31mMissingAttribute\u001b[0m: fesc can't be found on the model (escaped), emission (Sed), or emitter (Stars).  [EmissionModel.label: escaped] "
     ]
    }
   ],
   "source": [
    "\n",
    "# generate the spectra of every star particle\n",
    "galaxy.stars.get_spectra(emission_model)\n",
    "\n",
    "# generate the photometry\n",
    "galaxy.get_photo_lnu(filters)"
   ]
  },
  {
   "attachments": {},
   "cell_type": "markdown",
   "metadata": {},
   "source": [
    "Define the image geometry"
   ]
  },
  {
   "cell_type": "code",
   "execution_count": null,
   "metadata": {},
   "outputs": [],
   "source": [
    "# Define the width of the image\n",
    "width = 3 * kpc\n",
    "\n",
    "# Define image resolution (here we arbitrarily set it to 100\n",
    "# pixels along an axis)\n",
    "resolution = width / 50\n",
    "\n",
    "print(\n",
    "    \"Image width is %.2f kpc with %.2f kpc resolution\"\n",
    "    % (width.value, resolution.value)\n",
    ")"
   ]
  },
  {
   "cell_type": "code",
   "execution_count": null,
   "metadata": {},
   "outputs": [],
   "source": [
    "# Get the image\n",
    "hist_imgs = galaxy.get_images_luminosity(\n",
    "    resolution=resolution,\n",
    "    fov=width,\n",
    "    emission_model=emission_model,\n",
    "    img_type=\"hist\",\n",
    "    limit_to=\"attenuated\",\n",
    ")"
   ]
  },
  {
   "cell_type": "code",
   "execution_count": null,
   "metadata": {},
   "outputs": [],
   "source": [
    "\n",
    "for img in hist_imgs:\n",
    "    img.plot_img(show=True)"
   ]
  },
  {
   "attachments": {},
   "cell_type": "markdown",
   "metadata": {},
   "source": [
    "### Create RGB image"
   ]
  },
  {
   "cell_type": "code",
   "execution_count": null,
   "metadata": {},
   "outputs": [],
   "source": [
    "import matplotlib.colors as cm\n",
    "\n",
    "rgb_img = hist_imgs.make_rgb_image(\n",
    "    rgb_filters={\n",
    "        'R': 'J',\n",
    "        'G': 'V',\n",
    "        'B': 'U',\n",
    "    },\n",
    ")\n",
    "\n",
    "# Set up minima and maxima\n",
    "vmin = -np.percentile(rgb_img, 32)\n",
    "vmax = np.percentile(rgb_img, 99.9)\n",
    "norm = cm.Normalize(vmin=vmin, vmax=vmax, clip=True)\n",
    "print(\"Scaling to:\", vmin, \"->\", vmax)\n",
    "\n",
    "# Normalise the image.\n",
    "rgb_img = norm(rgb_img)\n",
    "\n",
    "print(rgb_img.shape)\n",
    "\n",
    "# Plot the image\n",
    "fig = plt.figure()\n",
    "ax = fig.add_subplot(111)\n",
    "ax.imshow(rgb_img, origin=\"lower\", interpolation=\"nearest\")\n",
    "ax.axis(\"off\")\n",
    "plt.show()\n",
    "plt.close(fig)"
   ]
  },
  {
   "attachments": {},
   "cell_type": "markdown",
   "metadata": {},
   "source": [
    "## More complex property map figures"
   ]
  },
  {
   "cell_type": "code",
   "execution_count": null,
   "metadata": {},
   "outputs": [],
   "source": [
    "from scipy.stats import binned_statistic_2d\n",
    "from matplotlib import cm\n",
    "from matplotlib.colors import Normalize\n",
    "\n",
    "radius=15\n",
    "bins=50\n",
    "pixel_size = radius*2./bins # kpc\n",
    "pixel_area = pixel_size**2\n",
    "pixel_area_pc2 = pixel_area * 1000**2\n",
    "print(pixel_area_pc2)\n",
    "\n",
    "def add_weighted_histogram(ax, x, y, q, cmap_name='viridis', label=None, log10=False, vmin=0.0, vmax=None):\n",
    "\n",
    "    if cmap_name.split('.')[0] == 'cmr':\n",
    "        cmap = cmr.get_sub_cmap(cmap_name, 0, 1)\n",
    "    else:\n",
    "        cmap = cm.get_cmap(cmap_name)\n",
    "\n",
    "    cmap.set_bad(color='0.5')\n",
    "\n",
    "    range = [(-radius, radius),(-radius, radius)]\n",
    "\n",
    "    hist, xedges, yedges = np.histogram2d(\n",
    "        x, \n",
    "        y, \n",
    "        weights=q, \n",
    "        range=range, \n",
    "        bins=bins,)\n",
    "    \n",
    "    hist /= pixel_area_pc2\n",
    "\n",
    "    if log10 is True:\n",
    "        hist = np.log10(hist)\n",
    "\n",
    "    # selection = hist == hist\n",
    "    # if not vmin:\n",
    "    #     vmin = np.min(hist[selection])\n",
    "    if not vmax:\n",
    "        if log10 is True:\n",
    "            vmax = np.round(np.max(hist),1)+0.5\n",
    "            vmin = vmax - 4.\n",
    "        else:\n",
    "            vmax = np.max(hist)\n",
    "            vmin = 0.0\n",
    "\n",
    "    # hist[hist==-np.inf] = vmin\n",
    "\n",
    "    norm = Normalize(vmin=vmin, vmax=vmax)\n",
    "\n",
    "    cbar = fig.colorbar(cm.ScalarMappable(norm=norm, cmap=cmap), ax=ax, location='top', orientation='horizontal', pad=0.0, fraction=0.2)\n",
    "\n",
    "    cbar.set_label(label=label,fontsize=8)\n",
    "    cbar.ax.tick_params(labelsize=7)\n",
    "\n",
    "    ax.imshow(hist, cmap=cmap, vmin=vmin, vmax=vmax)\n",
    "\n",
    "    return ax \n",
    "\n",
    "\n",
    "def add_ratio(ax, x, y, q1, q2, cmap_name='viridis', label=None, log10=False, vmin=0.0, vmax=None):\n",
    "\n",
    "    if cmap_name.split('.')[0] == 'cmr':\n",
    "        cmap = cmr.get_sub_cmap(cmap_name, 0, 1)\n",
    "    else:\n",
    "        cmap = cm.get_cmap(cmap_name)\n",
    "\n",
    "    cmap.set_bad(color='0.5')\n",
    "\n",
    "    range = [(-radius, radius),(-radius, radius)]\n",
    "\n",
    "    hist1, xedges, yedges = np.histogram2d(\n",
    "        x, \n",
    "        y, \n",
    "        weights=q1, \n",
    "        range=range, \n",
    "        bins=bins,)\n",
    "    \n",
    "    hist2, xedges, yedges = np.histogram2d(\n",
    "        x, \n",
    "        y, \n",
    "        weights=q2, \n",
    "        range=range, \n",
    "        bins=bins,)\n",
    "    \n",
    "    ratio = hist1/hist2\n",
    "\n",
    "    if log10 is True:\n",
    "        ratio = np.log10(ratio)\n",
    "\n",
    "    if not vmax:\n",
    "        if log10 is True:\n",
    "            vmax = np.round(np.max(ratio),1)+0.5\n",
    "            vmin = vmax - 4.\n",
    "        else:\n",
    "            vmax = np.max(ratio)\n",
    "            vmin = 0.0\n",
    "\n",
    "    norm = Normalize(vmin=vmin, vmax=vmax)\n",
    "\n",
    "    cbar = fig.colorbar(cm.ScalarMappable(norm=norm, cmap=cmap), ax=ax, location='top', orientation='horizontal', pad=0.0, fraction=0.2)\n",
    "\n",
    "    cbar.set_label(label=label,fontsize=8)\n",
    "    cbar.ax.tick_params(labelsize=7)\n",
    "\n",
    "    ax.imshow(ratio, cmap=cmap, vmin=vmin, vmax=vmax)\n",
    "\n",
    "    return ax \n",
    "\n",
    "\n",
    "\n",
    "def add_binned_statistic(fig, ax, x, y, q, cmap_name='viridis', statistic='median', label=None, log10=False, vmin=None, vmax=None):\n",
    "\n",
    "    if cmap_name.split('.')[0] == 'cmr':\n",
    "        cmap = cmr.get_sub_cmap(cmap_name, 0, 1)\n",
    "    else:\n",
    "        cmap = cm.get_cmap(cmap_name)\n",
    "\n",
    "    cmap.set_bad(color='0.5')\n",
    "\n",
    "    range = [(-radius, radius),(-radius, radius)]\n",
    "\n",
    "    statistic, xedges, yedges, N = binned_statistic_2d(x, y, q, statistic=statistic, bins=bins, range=range)\n",
    "\n",
    "    if log10 is True:\n",
    "        statistic = np.log10(statistic)\n",
    "\n",
    "    if not vmin:\n",
    "        vmin = np.min(statistic)\n",
    "    if not vmax:\n",
    "        vmax = np.max(statistic)\n",
    "\n",
    "    norm = Normalize(vmin=vmin, vmax=vmax)\n",
    "\n",
    "    cbar = fig.colorbar(cm.ScalarMappable(norm=norm, cmap=cmap), ax=ax, location='top', orientation='horizontal', pad=0.0, fraction=0.2)\n",
    "\n",
    "    cbar.set_label(label=label,fontsize=8)\n",
    "    cbar.ax.tick_params(labelsize=7)\n",
    "\n",
    "    ax.imshow(statistic, cmap=cmap, vmin=vmin, vmax=vmax)\n",
    "\n",
    "    return ax "
   ]
  },
  {
   "cell_type": "code",
   "execution_count": null,
   "metadata": {},
   "outputs": [],
   "source": [
    "\n",
    "# convert to kpc\n",
    "x = galaxy.stars.centered_coordinates[:, 0].to('kpc').value \n",
    "y = galaxy.stars.centered_coordinates[:, 1].to('kpc').value \n",
    "z = galaxy.stars.centered_coordinates[:, 2].to('kpc').value \n",
    "\n",
    "\n",
    "g_x = galaxy.gas.centered_coordinates[:, 0].to('kpc').value \n",
    "g_y = galaxy.gas.centered_coordinates[:, 1].to('kpc').value \n",
    "g_z = galaxy.gas.centered_coordinates[:, 2].to('kpc').value \n",
    "\n",
    "print(x)\n",
    "print(len(g_x))\n",
    "print(len(x))"
   ]
  },
  {
   "cell_type": "code",
   "execution_count": null,
   "metadata": {},
   "outputs": [],
   "source": [
    "N = 5\n",
    "size = 2\n",
    "\n",
    "gridspec_kw = {'left': 0.0, 'right': 1.0, 'top': 1.0, 'bottom': 0.0, 'wspace': 0.0, 'hspace': 0.0 }\n",
    "\n",
    "fig, axes = plt.subplots(1, N, gridspec_kw=gridspec_kw, figsize=(N*size, size*1.25))\n",
    "\n",
    "for ax in axes:\n",
    "    ax.axis('off')\n",
    "\n",
    "# add stellar mass\n",
    "add_weighted_histogram(axes[0], x, y, galaxy.stars._initial_masses, label=r'$\\log_{10}(\\Sigma_{\\star}/M_{\\odot}\\ pc^{-2})$', log10=True, cmap_name='cmr.gem')\n",
    "\n",
    "#  add median metallicity\n",
    "add_binned_statistic(fig, axes[1], x, y, galaxy.stars.metallicities, label=r'$\\log_{10}\\left(\\langle Z\\rangle\\right)$', log10=True, vmin=-2.9, vmax=-1.1, cmap_name='cmr.gem')\n",
    "\n",
    "# add median age\n",
    "add_binned_statistic(fig, axes[2], x, y, galaxy.stars._ages, label=r'$\\log_{10}(age/yr)$', log10=True, vmin=7.76, vmax=10.4, cmap_name='cmr.guppy')\n",
    "\n",
    "# add recent star formation\n",
    "timescale = 10\n",
    "selection = galaxy.stars.ages.to('Myr').value < timescale\n",
    "add_weighted_histogram(axes[3], x[selection], y[selection], galaxy.stars._initial_masses[selection]/timescale, label=r'$\\log_{10}(\\Sigma_{SFR_{10}}/M_{\\odot}\\ yr^{-1}\\ pc^{-2})$', log10=True, cmap_name='cmr.torch')\n",
    "\n",
    "# add median metallicity\n",
    "add_binned_statistic(fig, axes[4], x[selection], y[selection], galaxy.stars.metallicities[selection], label=r'$\\log_{10}\\left(\\langle Z\\rangle_{age<10\\ Myr}\\right)$', log10=True, vmin=-2.9, vmax=-1.1, cmap_name='cmr.gem')\n",
    "\n",
    "fig.show()\n",
    "# fig.savefig('figs/tng_map_physical.png')"
   ]
  },
  {
   "attachments": {},
   "cell_type": "markdown",
   "metadata": {},
   "source": [
    "#### Gas distribution maps"
   ]
  },
  {
   "cell_type": "code",
   "execution_count": null,
   "metadata": {},
   "outputs": [],
   "source": [
    "N = 3\n",
    "size = 2\n",
    "\n",
    "gridspec_kw = {'left': 0.0, 'right': 1.0, 'top': 1.0, 'bottom': 0.0, 'wspace': 0.0, 'hspace': 0.0 }\n",
    "\n",
    "fig, axes = plt.subplots(1, N, gridspec_kw=gridspec_kw, figsize=(N*size, size*1.25))\n",
    "\n",
    "for ax in axes:\n",
    "    ax.axis('off')\n",
    "\n",
    "\n",
    "\n",
    "# add gas surface density\n",
    "add_weighted_histogram(axes[0], g_x, g_y, galaxy.gas.masses.value, label='$\\log_{10}(\\Sigma_{g}/M_{\\odot}\\ pc^{-2})$', log10=True, cmap_name='magma')\n",
    "\n",
    "# add metal surface density\n",
    "add_weighted_histogram(axes[1], g_x, g_y, galaxy.gas.masses.value*galaxy.gas.metallicities, label='$\\log_{10}(\\Sigma_{Z}/M_{\\odot}\\ pc^{-2})$', log10=True, cmap_name='magma')\n",
    "\n",
    "# add median attenuation\n",
    "add_binned_statistic(fig, axes[2], x, y, galaxy.stars.tau_v, label=r'$\\log_{10}\\left(\\langle\\tau_{V}\\rangle\\right)$', log10=True, vmin=-2.9, vmax=1.5, cmap_name='cmr.sunburst_r')\n",
    "\n",
    "fig.show()\n",
    "# fig.savefig('figs/tng_map_dust.png')"
   ]
  },
  {
   "attachments": {},
   "cell_type": "markdown",
   "metadata": {},
   "source": [
    "### Initialise a SPS grid"
   ]
  },
  {
   "cell_type": "code",
   "execution_count": null,
   "metadata": {},
   "outputs": [],
   "source": [
    "from synthesizer.grid import Grid\n",
    "\n",
    "grid_dir = '/Users/sw376/Dropbox/Research/data/synthesizer/grids/'\n",
    "grid_name = 'bpass-2.2.1-bin_chabrier03-0.1,300.0_cloudy-c23.01-sps'\n",
    "\n",
    "# initialise the grid, but with a restricted wavelength range and resolution\n",
    "grid = Grid(grid_name, grid_dir=grid_dir)"
   ]
  }
 ],
 "metadata": {
  "kernelspec": {
   "display_name": "venv",
   "language": "python",
   "name": "python3"
  },
  "language_info": {
   "codemirror_mode": {
    "name": "ipython",
    "version": 3
   },
   "file_extension": ".py",
   "mimetype": "text/x-python",
   "name": "python",
   "nbconvert_exporter": "python",
   "pygments_lexer": "ipython3",
   "version": "3.10.11"
  },
  "orig_nbformat": 4,
  "vscode": {
   "interpreter": {
    "hash": "1053b2788241b0fa383aca233aaf72656c52b8b11178272842225955a19ba6e4"
   }
  }
 },
 "nbformat": 4,
 "nbformat_minor": 2
}
